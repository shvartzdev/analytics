{
 "cells": [
  {
   "cell_type": "code",
   "execution_count": 69,
   "metadata": {},
   "outputs": [],
   "source": [
    "import pandas as pd\n",
    "import numpy as np\n",
    "import seaborn as sns\n",
    "import matplotlib.pyplot as plt\n",
    "\n",
    "from scipy.stats import mannwhitneyu\n",
    "from scipy.stats import ttest_ind\n",
    "from scipy.stats import f_oneway\n",
    "\n",
    "%matplotlib inline"
   ]
  },
  {
   "cell_type": "code",
   "execution_count": 4,
   "metadata": {},
   "outputs": [],
   "source": [
    "mu = 100\n",
    "sigma = 10"
   ]
  },
  {
   "cell_type": "code",
   "execution_count": 5,
   "metadata": {},
   "outputs": [],
   "source": [
    "population = np.round(np.random.normal(mu, sigma, 10000), 2)"
   ]
  },
  {
   "cell_type": "code",
   "execution_count": 7,
   "metadata": {
    "scrolled": false
   },
   "outputs": [
    {
     "data": {
      "text/plain": [
       "<matplotlib.axes._subplots.AxesSubplot at 0x7f7419ae54a8>"
      ]
     },
     "execution_count": 7,
     "metadata": {},
     "output_type": "execute_result"
    },
    {
     "data": {
      "image/png": "[encoded data removed]",
      "text/plain": [
       "<Figure size 432x288 with 1 Axes>"
      ]
     },
     "metadata": {
      "needs_background": "light"
     },
     "output_type": "display_data"
    }
   ],
   "source": [
    "sns.histplot(population, kde=False)"
   ]
  },
  {
   "cell_type": "code",
   "execution_count": 31,
   "metadata": {},
   "outputs": [],
   "source": [
    "mu = population.mean()"
   ]
  },
  {
   "cell_type": "code",
   "execution_count": 32,
   "metadata": {},
   "outputs": [],
   "source": [
    "sigma = population.std()"
   ]
  },
  {
   "cell_type": "code",
   "execution_count": 51,
   "metadata": {},
   "outputs": [],
   "source": [
    "sample_size = 5"
   ]
  },
  {
   "cell_type": "code",
   "execution_count": 52,
   "metadata": {},
   "outputs": [],
   "source": [
    "se = sigma / sample_size ** 0.5"
   ]
  },
  {
   "cell_type": "code",
   "execution_count": 53,
   "metadata": {},
   "outputs": [],
   "source": [
    "sample = np.random.choice(population, sample_size, False)"
   ]
  },
  {
   "cell_type": "code",
   "execution_count": 54,
   "metadata": {},
   "outputs": [
    {
     "data": {
      "text/plain": [
       "101.24"
      ]
     },
     "execution_count": 54,
     "metadata": {},
     "output_type": "execute_result"
    }
   ],
   "source": [
    "sample.mean()"
   ]
  },
  {
   "cell_type": "code",
   "execution_count": null,
   "metadata": {},
   "outputs": [],
   "source": []
  },
  {
   "cell_type": "markdown",
   "metadata": {},
   "source": [
    "Чем больше размер выборки, тем более точным получается среднее значение. Чем меньше размер, тем больше разброс"
   ]
  },
  {
   "cell_type": "markdown",
   "metadata": {},
   "source": [
    "### z-распределение"
   ]
  },
  {
   "cell_type": "code",
   "execution_count": 55,
   "metadata": {},
   "outputs": [],
   "source": [
    "z_scores = []\n",
    "n = 10000\n",
    "\n",
    "for i in range(n):\n",
    "    sample = np.random.choice(population, sample_size, False)\n",
    "    sample_mean = sample.mean()\n",
    "\n",
    "    z_score = (sample_mean - mu) / se\n",
    "    z_scores.append(z_score)"
   ]
  },
  {
   "cell_type": "code",
   "execution_count": 56,
   "metadata": {},
   "outputs": [
    {
     "data": {
      "text/plain": [
       "<matplotlib.axes._subplots.AxesSubplot at 0x7f741699b9e8>"
      ]
     },
     "execution_count": 56,
     "metadata": {},
     "output_type": "execute_result"
    },
    {
     "data": {
      "image/png": "[encoded data removed]",
      "text/plain": [
       "<Figure size 432x288 with 1 Axes>"
      ]
     },
     "metadata": {
      "needs_background": "light"
     },
     "output_type": "display_data"
    }
   ],
   "source": [
    "sns.histplot(z_scores, kde=False)"
   ]
  },
  {
   "cell_type": "markdown",
   "metadata": {},
   "source": [
    "### t-распределение"
   ]
  },
  {
   "cell_type": "code",
   "execution_count": 57,
   "metadata": {},
   "outputs": [],
   "source": [
    "n = 10000\n",
    "t_scores = []\n",
    "\n",
    "for i in range(n):\n",
    "    sample = np.random.choice(population, sample_size, False)\n",
    "    sample_mean = sample.mean()\n",
    "    sample_std = sample.std()\n",
    "    \n",
    "    se_ = sample_std / sample_size ** 0.5\n",
    "\n",
    "    t_score = (sample_mean - mu) / se_\n",
    "    t_scores.append(t_score)"
   ]
  },
  {
   "cell_type": "code",
   "execution_count": 58,
   "metadata": {},
   "outputs": [
    {
     "data": {
      "text/plain": [
       "<matplotlib.axes._subplots.AxesSubplot at 0x7f74195127b8>"
      ]
     },
     "execution_count": 58,
     "metadata": {},
     "output_type": "execute_result"
    },
    {
     "data": {
      "image/png": "[encoded data removed]",
      "text/plain": [
       "<Figure size 432x288 with 1 Axes>"
      ]
     },
     "metadata": {
      "needs_background": "light"
     },
     "output_type": "display_data"
    }
   ],
   "source": [
    "sns.histplot(t_scores, kde=False)"
   ]
  },
  {
   "cell_type": "markdown",
   "metadata": {},
   "source": [
    "Распределение t-значений похоже на распределение z-значений, но с более высокими краями (экстремальные значения появляются чаще). Мы уходим от нормального распределения к t-распределению (распределение Стьюдента). На маленьких выборках разница разительная\n",
    "\n",
    "У t-распределения есть степень свободы (у нормального – только среднее и стандартное отклонение). Чем больше степень свободы (больше выборка), тем более \"опущены\" хвосты. Чем меньше степень свободы, тем более \"подняты\" хвосты справа и слева."
   ]
  },
  {
   "cell_type": "markdown",
   "metadata": {},
   "source": [
    "Когда мы не знаем стандартное отклонение ГС и рассчитываем стандартную ошибку, поставив туда выборочное стандартное отклонение, мы теряем точность. И нам нужно повысить границу доверительного интервала, расширить его. Мы как бы добавили больше шума, и теперь нам нужен больший запас.\n",
    "\n",
    "Но если выборка маленькая, то для t-значения история другая."
   ]
  },
  {
   "cell_type": "code",
   "execution_count": null,
   "metadata": {},
   "outputs": [],
   "source": []
  },
  {
   "cell_type": "code",
   "execution_count": 3,
   "metadata": {},
   "outputs": [],
   "source": [
    "ads_data = pd.read_csv('/mnt/HC_Volume_18315164/home-jupyter/jupyter-da-chernova/shared/ads_data.csv.zip')"
   ]
  },
  {
   "cell_type": "code",
   "execution_count": 5,
   "metadata": {},
   "outputs": [
    {
     "data": {
      "text/html": [
       "<div>\n",
       "<style scoped>\n",
       "    .dataframe tbody tr th:only-of-type {\n",
       "        vertical-align: middle;\n",
       "    }\n",
       "\n",
       "    .dataframe tbody tr th {\n",
       "        vertical-align: top;\n",
       "    }\n",
       "\n",
       "    .dataframe thead th {\n",
       "        text-align: right;\n",
       "    }\n",
       "</style>\n",
       "<table border=\"1\" class=\"dataframe\">\n",
       "  <thead>\n",
       "    <tr style=\"text-align: right;\">\n",
       "      <th></th>\n",
       "      <th>ad_id</th>\n",
       "      <th>time</th>\n",
       "      <th>event</th>\n",
       "      <th>date</th>\n",
       "      <th>ad_cost_type</th>\n",
       "      <th>has_video</th>\n",
       "      <th>client_union_id</th>\n",
       "      <th>campaign_union_id</th>\n",
       "      <th>platform</th>\n",
       "      <th>ad_cost</th>\n",
       "      <th>target_audience_count</th>\n",
       "      <th>user_id</th>\n",
       "    </tr>\n",
       "  </thead>\n",
       "  <tbody>\n",
       "    <tr>\n",
       "      <th>0</th>\n",
       "      <td>23456</td>\n",
       "      <td>1554076848</td>\n",
       "      <td>view</td>\n",
       "      <td>2019-04-01</td>\n",
       "      <td>CPM</td>\n",
       "      <td>0</td>\n",
       "      <td>5681</td>\n",
       "      <td>23456</td>\n",
       "      <td>android</td>\n",
       "      <td>190.0</td>\n",
       "      <td>125560</td>\n",
       "      <td>793</td>\n",
       "    </tr>\n",
       "    <tr>\n",
       "      <th>1</th>\n",
       "      <td>111941</td>\n",
       "      <td>1554135866</td>\n",
       "      <td>view</td>\n",
       "      <td>2019-04-01</td>\n",
       "      <td>CPM</td>\n",
       "      <td>0</td>\n",
       "      <td>111793</td>\n",
       "      <td>111941</td>\n",
       "      <td>ios</td>\n",
       "      <td>215.2</td>\n",
       "      <td>32277</td>\n",
       "      <td>1041</td>\n",
       "    </tr>\n",
       "    <tr>\n",
       "      <th>2</th>\n",
       "      <td>111941</td>\n",
       "      <td>1554135866</td>\n",
       "      <td>view</td>\n",
       "      <td>2019-04-01</td>\n",
       "      <td>CPM</td>\n",
       "      <td>0</td>\n",
       "      <td>111793</td>\n",
       "      <td>111941</td>\n",
       "      <td>ios</td>\n",
       "      <td>215.2</td>\n",
       "      <td>32277</td>\n",
       "      <td>41</td>\n",
       "    </tr>\n",
       "    <tr>\n",
       "      <th>3</th>\n",
       "      <td>42987</td>\n",
       "      <td>1554135866</td>\n",
       "      <td>view</td>\n",
       "      <td>2019-04-01</td>\n",
       "      <td>CPM</td>\n",
       "      <td>0</td>\n",
       "      <td>28541</td>\n",
       "      <td>42985</td>\n",
       "      <td>ios</td>\n",
       "      <td>199.1</td>\n",
       "      <td>80160</td>\n",
       "      <td>898</td>\n",
       "    </tr>\n",
       "    <tr>\n",
       "      <th>4</th>\n",
       "      <td>23456</td>\n",
       "      <td>1554135866</td>\n",
       "      <td>view</td>\n",
       "      <td>2019-04-01</td>\n",
       "      <td>CPM</td>\n",
       "      <td>0</td>\n",
       "      <td>5681</td>\n",
       "      <td>23456</td>\n",
       "      <td>web</td>\n",
       "      <td>190.0</td>\n",
       "      <td>125560</td>\n",
       "      <td>29</td>\n",
       "    </tr>\n",
       "  </tbody>\n",
       "</table>\n",
       "</div>"
      ],
      "text/plain": [
       "    ad_id        time event        date ad_cost_type  has_video  \\\n",
       "0   23456  1554076848  view  2019-04-01          CPM          0   \n",
       "1  111941  1554135866  view  2019-04-01          CPM          0   \n",
       "2  111941  1554135866  view  2019-04-01          CPM          0   \n",
       "3   42987  1554135866  view  2019-04-01          CPM          0   \n",
       "4   23456  1554135866  view  2019-04-01          CPM          0   \n",
       "\n",
       "   client_union_id  campaign_union_id platform  ad_cost  \\\n",
       "0             5681              23456  android    190.0   \n",
       "1           111793             111941      ios    215.2   \n",
       "2           111793             111941      ios    215.2   \n",
       "3            28541              42985      ios    199.1   \n",
       "4             5681              23456      web    190.0   \n",
       "\n",
       "   target_audience_count  user_id  \n",
       "0                 125560      793  \n",
       "1                  32277     1041  \n",
       "2                  32277       41  \n",
       "3                  80160      898  \n",
       "4                 125560       29  "
      ]
     },
     "execution_count": 5,
     "metadata": {},
     "output_type": "execute_result"
    }
   ],
   "source": [
    "ads_data.head()"
   ]
  },
  {
   "cell_type": "code",
   "execution_count": 8,
   "metadata": {},
   "outputs": [],
   "source": [
    "df = ads_data.groupby(['ad_id', 'ad_cost_type', 'platform', 'event'], as_index=False)\\\n",
    "                .agg({'user_id' : 'count'})"
   ]
  },
  {
   "cell_type": "code",
   "execution_count": 10,
   "metadata": {},
   "outputs": [
    {
     "data": {
      "text/html": [
       "<div>\n",
       "<style scoped>\n",
       "    .dataframe tbody tr th:only-of-type {\n",
       "        vertical-align: middle;\n",
       "    }\n",
       "\n",
       "    .dataframe tbody tr th {\n",
       "        vertical-align: top;\n",
       "    }\n",
       "\n",
       "    .dataframe thead th {\n",
       "        text-align: right;\n",
       "    }\n",
       "</style>\n",
       "<table border=\"1\" class=\"dataframe\">\n",
       "  <thead>\n",
       "    <tr style=\"text-align: right;\">\n",
       "      <th></th>\n",
       "      <th>ad_id</th>\n",
       "      <th>ad_cost_type</th>\n",
       "      <th>platform</th>\n",
       "      <th>event</th>\n",
       "      <th>user_id</th>\n",
       "    </tr>\n",
       "  </thead>\n",
       "  <tbody>\n",
       "    <tr>\n",
       "      <th>0</th>\n",
       "      <td>3</td>\n",
       "      <td>CPC</td>\n",
       "      <td>android</td>\n",
       "      <td>click</td>\n",
       "      <td>5</td>\n",
       "    </tr>\n",
       "    <tr>\n",
       "      <th>1</th>\n",
       "      <td>3</td>\n",
       "      <td>CPC</td>\n",
       "      <td>android</td>\n",
       "      <td>view</td>\n",
       "      <td>244</td>\n",
       "    </tr>\n",
       "    <tr>\n",
       "      <th>2</th>\n",
       "      <td>3</td>\n",
       "      <td>CPC</td>\n",
       "      <td>ios</td>\n",
       "      <td>click</td>\n",
       "      <td>3</td>\n",
       "    </tr>\n",
       "    <tr>\n",
       "      <th>3</th>\n",
       "      <td>3</td>\n",
       "      <td>CPC</td>\n",
       "      <td>ios</td>\n",
       "      <td>view</td>\n",
       "      <td>147</td>\n",
       "    </tr>\n",
       "    <tr>\n",
       "      <th>4</th>\n",
       "      <td>3</td>\n",
       "      <td>CPC</td>\n",
       "      <td>web</td>\n",
       "      <td>click</td>\n",
       "      <td>1</td>\n",
       "    </tr>\n",
       "  </tbody>\n",
       "</table>\n",
       "</div>"
      ],
      "text/plain": [
       "   ad_id ad_cost_type platform  event  user_id\n",
       "0      3          CPC  android  click        5\n",
       "1      3          CPC  android   view      244\n",
       "2      3          CPC      ios  click        3\n",
       "3      3          CPC      ios   view      147\n",
       "4      3          CPC      web  click        1"
      ]
     },
     "execution_count": 10,
     "metadata": {},
     "output_type": "execute_result"
    }
   ],
   "source": [
    "df.head()"
   ]
  },
  {
   "cell_type": "code",
   "execution_count": 12,
   "metadata": {},
   "outputs": [],
   "source": [
    "df = df.pivot(index=['ad_id', 'ad_cost_type', 'platform'],\n",
    "columns='event', values='user_id').reset_index()"
   ]
  },
  {
   "cell_type": "code",
   "execution_count": 13,
   "metadata": {},
   "outputs": [
    {
     "data": {
      "text/html": [
       "<div>\n",
       "<style scoped>\n",
       "    .dataframe tbody tr th:only-of-type {\n",
       "        vertical-align: middle;\n",
       "    }\n",
       "\n",
       "    .dataframe tbody tr th {\n",
       "        vertical-align: top;\n",
       "    }\n",
       "\n",
       "    .dataframe thead th {\n",
       "        text-align: right;\n",
       "    }\n",
       "</style>\n",
       "<table border=\"1\" class=\"dataframe\">\n",
       "  <thead>\n",
       "    <tr style=\"text-align: right;\">\n",
       "      <th>event</th>\n",
       "      <th>ad_id</th>\n",
       "      <th>ad_cost_type</th>\n",
       "      <th>platform</th>\n",
       "      <th>click</th>\n",
       "      <th>view</th>\n",
       "    </tr>\n",
       "  </thead>\n",
       "  <tbody>\n",
       "    <tr>\n",
       "      <th>0</th>\n",
       "      <td>3</td>\n",
       "      <td>CPC</td>\n",
       "      <td>android</td>\n",
       "      <td>5.0</td>\n",
       "      <td>244.0</td>\n",
       "    </tr>\n",
       "    <tr>\n",
       "      <th>1</th>\n",
       "      <td>3</td>\n",
       "      <td>CPC</td>\n",
       "      <td>ios</td>\n",
       "      <td>3.0</td>\n",
       "      <td>147.0</td>\n",
       "    </tr>\n",
       "    <tr>\n",
       "      <th>2</th>\n",
       "      <td>3</td>\n",
       "      <td>CPC</td>\n",
       "      <td>web</td>\n",
       "      <td>1.0</td>\n",
       "      <td>99.0</td>\n",
       "    </tr>\n",
       "    <tr>\n",
       "      <th>3</th>\n",
       "      <td>2132</td>\n",
       "      <td>CPC</td>\n",
       "      <td>android</td>\n",
       "      <td>1.0</td>\n",
       "      <td>55.0</td>\n",
       "    </tr>\n",
       "    <tr>\n",
       "      <th>4</th>\n",
       "      <td>2132</td>\n",
       "      <td>CPC</td>\n",
       "      <td>ios</td>\n",
       "      <td>NaN</td>\n",
       "      <td>26.0</td>\n",
       "    </tr>\n",
       "  </tbody>\n",
       "</table>\n",
       "</div>"
      ],
      "text/plain": [
       "event  ad_id ad_cost_type platform  click   view\n",
       "0          3          CPC  android    5.0  244.0\n",
       "1          3          CPC      ios    3.0  147.0\n",
       "2          3          CPC      web    1.0   99.0\n",
       "3       2132          CPC  android    1.0   55.0\n",
       "4       2132          CPC      ios    NaN   26.0"
      ]
     },
     "execution_count": 13,
     "metadata": {},
     "output_type": "execute_result"
    }
   ],
   "source": [
    "df.head()"
   ]
  },
  {
   "cell_type": "markdown",
   "metadata": {},
   "source": [
    "**Сравнение двух и более групп**"
   ]
  },
  {
   "cell_type": "code",
   "execution_count": 81,
   "metadata": {},
   "outputs": [],
   "source": [
    "platform_df = df.groupby(['ad_id', 'platform'], as_index=False) \\\n",
    "                .agg({'click' : 'sum', 'view':'sum'}).fillna(0)"
   ]
  },
  {
   "cell_type": "code",
   "execution_count": 83,
   "metadata": {},
   "outputs": [],
   "source": [
    "platform_df = platform_df.query('view > 100 & click > 0')"
   ]
  },
  {
   "cell_type": "code",
   "execution_count": 84,
   "metadata": {},
   "outputs": [],
   "source": [
    "platform_df = platform_df.assign(ctr = platform_df.click / platform_df.view)"
   ]
  },
  {
   "cell_type": "code",
   "execution_count": 87,
   "metadata": {},
   "outputs": [],
   "source": [
    "platform_df = platform_df.assign(log_ctr = np.log(platform_df.ctr))"
   ]
  },
  {
   "cell_type": "code",
   "execution_count": 88,
   "metadata": {},
   "outputs": [
    {
     "data": {
      "text/html": [
       "<div>\n",
       "<style scoped>\n",
       "    .dataframe tbody tr th:only-of-type {\n",
       "        vertical-align: middle;\n",
       "    }\n",
       "\n",
       "    .dataframe tbody tr th {\n",
       "        vertical-align: top;\n",
       "    }\n",
       "\n",
       "    .dataframe thead th {\n",
       "        text-align: right;\n",
       "    }\n",
       "</style>\n",
       "<table border=\"1\" class=\"dataframe\">\n",
       "  <thead>\n",
       "    <tr style=\"text-align: right;\">\n",
       "      <th></th>\n",
       "      <th>ad_id</th>\n",
       "      <th>platform</th>\n",
       "      <th>click</th>\n",
       "      <th>view</th>\n",
       "      <th>ctr</th>\n",
       "      <th>log_ctr</th>\n",
       "    </tr>\n",
       "  </thead>\n",
       "  <tbody>\n",
       "    <tr>\n",
       "      <th>0</th>\n",
       "      <td>3</td>\n",
       "      <td>android</td>\n",
       "      <td>5.0</td>\n",
       "      <td>244.0</td>\n",
       "      <td>0.020492</td>\n",
       "      <td>-3.887730</td>\n",
       "    </tr>\n",
       "    <tr>\n",
       "      <th>1</th>\n",
       "      <td>3</td>\n",
       "      <td>ios</td>\n",
       "      <td>3.0</td>\n",
       "      <td>147.0</td>\n",
       "      <td>0.020408</td>\n",
       "      <td>-3.891820</td>\n",
       "    </tr>\n",
       "    <tr>\n",
       "      <th>6</th>\n",
       "      <td>2276</td>\n",
       "      <td>android</td>\n",
       "      <td>2.0</td>\n",
       "      <td>703.0</td>\n",
       "      <td>0.002845</td>\n",
       "      <td>-5.862210</td>\n",
       "    </tr>\n",
       "    <tr>\n",
       "      <th>15</th>\n",
       "      <td>4585</td>\n",
       "      <td>android</td>\n",
       "      <td>17.0</td>\n",
       "      <td>224.0</td>\n",
       "      <td>0.075893</td>\n",
       "      <td>-2.578433</td>\n",
       "    </tr>\n",
       "    <tr>\n",
       "      <th>16</th>\n",
       "      <td>4585</td>\n",
       "      <td>ios</td>\n",
       "      <td>24.0</td>\n",
       "      <td>148.0</td>\n",
       "      <td>0.162162</td>\n",
       "      <td>-1.819158</td>\n",
       "    </tr>\n",
       "  </tbody>\n",
       "</table>\n",
       "</div>"
      ],
      "text/plain": [
       "    ad_id platform  click   view       ctr   log_ctr\n",
       "0       3  android    5.0  244.0  0.020492 -3.887730\n",
       "1       3      ios    3.0  147.0  0.020408 -3.891820\n",
       "6    2276  android    2.0  703.0  0.002845 -5.862210\n",
       "15   4585  android   17.0  224.0  0.075893 -2.578433\n",
       "16   4585      ios   24.0  148.0  0.162162 -1.819158"
      ]
     },
     "execution_count": 88,
     "metadata": {},
     "output_type": "execute_result"
    }
   ],
   "source": [
    "platform_df.head()"
   ]
  },
  {
   "cell_type": "code",
   "execution_count": 93,
   "metadata": {},
   "outputs": [
    {
     "data": {
      "text/plain": [
       "<matplotlib.axes._subplots.AxesSubplot at 0x7f9af0dc76d8>"
      ]
     },
     "execution_count": 93,
     "metadata": {},
     "output_type": "execute_result"
    },
    {
     "data": {
      "image/png": "[encoded data removed]",
      "text/plain": [
       "<Figure size 432x288 with 1 Axes>"
      ]
     },
     "metadata": {
      "needs_background": "light"
     },
     "output_type": "display_data"
    }
   ],
   "source": [
    "sns.histplot(data=platform_df.ctr)"
   ]
  },
  {
   "cell_type": "code",
   "execution_count": 92,
   "metadata": {},
   "outputs": [
    {
     "data": {
      "text/plain": [
       "<matplotlib.axes._subplots.AxesSubplot at 0x7f9af10b6908>"
      ]
     },
     "execution_count": 92,
     "metadata": {},
     "output_type": "execute_result"
    },
    {
     "data": {
      "image/png": "[encoded data removed]",
      "text/plain": [
       "<Figure size 1080x720 with 1 Axes>"
      ]
     },
     "metadata": {
      "needs_background": "light"
     },
     "output_type": "display_data"
    }
   ],
   "source": [
    "plt.figure(figsize=(15, 10))\n",
    "sns.boxplot(data = platform_df, x='platform', y='log_ctr')"
   ]
  },
  {
   "cell_type": "code",
   "execution_count": 96,
   "metadata": {},
   "outputs": [
    {
     "data": {
      "text/html": [
       "<div>\n",
       "<style scoped>\n",
       "    .dataframe tbody tr th:only-of-type {\n",
       "        vertical-align: middle;\n",
       "    }\n",
       "\n",
       "    .dataframe tbody tr th {\n",
       "        vertical-align: top;\n",
       "    }\n",
       "\n",
       "    .dataframe thead th {\n",
       "        text-align: right;\n",
       "    }\n",
       "</style>\n",
       "<table border=\"1\" class=\"dataframe\">\n",
       "  <thead>\n",
       "    <tr style=\"text-align: right;\">\n",
       "      <th></th>\n",
       "      <th>platform</th>\n",
       "      <th>ctr</th>\n",
       "    </tr>\n",
       "  </thead>\n",
       "  <tbody>\n",
       "    <tr>\n",
       "      <th>0</th>\n",
       "      <td>android</td>\n",
       "      <td>0.010695</td>\n",
       "    </tr>\n",
       "    <tr>\n",
       "      <th>1</th>\n",
       "      <td>ios</td>\n",
       "      <td>0.009554</td>\n",
       "    </tr>\n",
       "    <tr>\n",
       "      <th>2</th>\n",
       "      <td>web</td>\n",
       "      <td>0.011213</td>\n",
       "    </tr>\n",
       "  </tbody>\n",
       "</table>\n",
       "</div>"
      ],
      "text/plain": [
       "  platform       ctr\n",
       "0  android  0.010695\n",
       "1      ios  0.009554\n",
       "2      web  0.011213"
      ]
     },
     "execution_count": 96,
     "metadata": {},
     "output_type": "execute_result"
    }
   ],
   "source": [
    "platform_df.groupby('platform', as_index=False).agg({'ctr' : 'median'})"
   ]
  },
  {
   "cell_type": "code",
   "execution_count": null,
   "metadata": {},
   "outputs": [],
   "source": [
    "f_oneway(platform_df[platform_df.platform == 'web'].log_ctr,\n",
    "         platform_df[platform_df.platform == 'android'].log_ctr,\n",
    "         platform_df[platform_df.platform == 'ios']"
   ]
  },
  {
   "cell_type": "code",
   "execution_count": null,
   "metadata": {},
   "outputs": [],
   "source": []
  },
  {
   "cell_type": "markdown",
   "metadata": {},
   "source": [
    "**Как отличаются CTR в зависимости от типа оплаты?**  \n",
    "(Сравнение двух групп)"
   ]
  },
  {
   "cell_type": "code",
   "execution_count": 17,
   "metadata": {},
   "outputs": [],
   "source": [
    "cost_type_df = df.groupby(['ad_id', 'ad_cost_type'], as_index=False)\\\n",
    "                .agg({'click' : 'sum', 'view' : 'sum'})"
   ]
  },
  {
   "cell_type": "code",
   "execution_count": 21,
   "metadata": {},
   "outputs": [
    {
     "data": {
      "text/html": [
       "<div>\n",
       "<style scoped>\n",
       "    .dataframe tbody tr th:only-of-type {\n",
       "        vertical-align: middle;\n",
       "    }\n",
       "\n",
       "    .dataframe tbody tr th {\n",
       "        vertical-align: top;\n",
       "    }\n",
       "\n",
       "    .dataframe thead th {\n",
       "        text-align: right;\n",
       "    }\n",
       "</style>\n",
       "<table border=\"1\" class=\"dataframe\">\n",
       "  <thead>\n",
       "    <tr style=\"text-align: right;\">\n",
       "      <th></th>\n",
       "      <th>ad_id</th>\n",
       "      <th>ad_cost_type</th>\n",
       "      <th>click</th>\n",
       "      <th>view</th>\n",
       "    </tr>\n",
       "  </thead>\n",
       "  <tbody>\n",
       "    <tr>\n",
       "      <th>0</th>\n",
       "      <td>3</td>\n",
       "      <td>CPC</td>\n",
       "      <td>9.0</td>\n",
       "      <td>490.0</td>\n",
       "    </tr>\n",
       "    <tr>\n",
       "      <th>1</th>\n",
       "      <td>2132</td>\n",
       "      <td>CPC</td>\n",
       "      <td>1.0</td>\n",
       "      <td>95.0</td>\n",
       "    </tr>\n",
       "    <tr>\n",
       "      <th>2</th>\n",
       "      <td>2276</td>\n",
       "      <td>CPC</td>\n",
       "      <td>2.0</td>\n",
       "      <td>1454.0</td>\n",
       "    </tr>\n",
       "    <tr>\n",
       "      <th>3</th>\n",
       "      <td>2475</td>\n",
       "      <td>CPM</td>\n",
       "      <td>0.0</td>\n",
       "      <td>132.0</td>\n",
       "    </tr>\n",
       "    <tr>\n",
       "      <th>4</th>\n",
       "      <td>2643</td>\n",
       "      <td>CPM</td>\n",
       "      <td>3.0</td>\n",
       "      <td>286.0</td>\n",
       "    </tr>\n",
       "  </tbody>\n",
       "</table>\n",
       "</div>"
      ],
      "text/plain": [
       "   ad_id ad_cost_type  click    view\n",
       "0      3          CPC    9.0   490.0\n",
       "1   2132          CPC    1.0    95.0\n",
       "2   2276          CPC    2.0  1454.0\n",
       "3   2475          CPM    0.0   132.0\n",
       "4   2643          CPM    3.0   286.0"
      ]
     },
     "execution_count": 21,
     "metadata": {},
     "output_type": "execute_result"
    }
   ],
   "source": [
    "cost_type_df.head()"
   ]
  },
  {
   "cell_type": "code",
   "execution_count": 27,
   "metadata": {},
   "outputs": [
    {
     "data": {
      "text/plain": [
       "view    478.0\n",
       "dtype: float64"
      ]
     },
     "execution_count": 27,
     "metadata": {},
     "output_type": "execute_result"
    }
   ],
   "source": [
    "cost_type_df[['view']].median()"
   ]
  },
  {
   "cell_type": "code",
   "execution_count": 57,
   "metadata": {},
   "outputs": [],
   "source": [
    "cost_type_df = cost_type_df.query('view > 100 & click > 0')"
   ]
  },
  {
   "cell_type": "code",
   "execution_count": 58,
   "metadata": {},
   "outputs": [],
   "source": [
    "cost_type_df = cost_type_df.assign(ctr = cost_type_df.click / cost_type_df.view)"
   ]
  },
  {
   "cell_type": "code",
   "execution_count": 70,
   "metadata": {},
   "outputs": [],
   "source": [
    "cost_type_df['ctr_log'] = np.log(cost_type_df.ctr)"
   ]
  },
  {
   "cell_type": "code",
   "execution_count": 60,
   "metadata": {},
   "outputs": [
    {
     "data": {
      "text/plain": [
       "<matplotlib.axes._subplots.AxesSubplot at 0x7f9af167ce80>"
      ]
     },
     "execution_count": 60,
     "metadata": {},
     "output_type": "execute_result"
    },
    {
     "data": {
      "image/png": "[encoded data removed]",
      "text/plain": [
       "<Figure size 1080x720 with 1 Axes>"
      ]
     },
     "metadata": {
      "needs_background": "light"
     },
     "output_type": "display_data"
    }
   ],
   "source": [
    "plt.figure(figsize=(15, 10))\n",
    "sns.boxplot(data = cost_type_df, x='ad_cost_type', y='ctr')"
   ]
  },
  {
   "cell_type": "code",
   "execution_count": 61,
   "metadata": {},
   "outputs": [
    {
     "data": {
      "text/plain": [
       "<matplotlib.axes._subplots.AxesSubplot at 0x7f9af15d3a58>"
      ]
     },
     "execution_count": 61,
     "metadata": {},
     "output_type": "execute_result"
    },
    {
     "data": {
      "image/png": "[encoded data removed]",
      "text/plain": [
       "<Figure size 1080x720 with 1 Axes>"
      ]
     },
     "metadata": {
      "needs_background": "light"
     },
     "output_type": "display_data"
    }
   ],
   "source": [
    "plt.figure(figsize=(15, 10))\n",
    "sns.histplot(cost_type_df.ctr, kde=True)"
   ]
  },
  {
   "cell_type": "code",
   "execution_count": 65,
   "metadata": {},
   "outputs": [
    {
     "data": {
      "text/plain": [
       "<matplotlib.axes._subplots.AxesSubplot at 0x7f9af154d940>"
      ]
     },
     "execution_count": 65,
     "metadata": {},
     "output_type": "execute_result"
    },
    {
     "data": {
      "image/png": "[encoded data removed]",
      "text/plain": [
       "<Figure size 1080x720 with 1 Axes>"
      ]
     },
     "metadata": {
      "needs_background": "light"
     },
     "output_type": "display_data"
    }
   ],
   "source": [
    "plt.figure(figsize=(15, 10))\n",
    "sns.histplot(np.log(cost_type_df.ctr))"
   ]
  },
  {
   "cell_type": "code",
   "execution_count": null,
   "metadata": {},
   "outputs": [],
   "source": []
  },
  {
   "cell_type": "code",
   "execution_count": null,
   "metadata": {},
   "outputs": [],
   "source": []
  },
  {
   "cell_type": "code",
   "execution_count": 66,
   "metadata": {},
   "outputs": [
    {
     "data": {
      "text/html": [
       "<div>\n",
       "<style scoped>\n",
       "    .dataframe tbody tr th:only-of-type {\n",
       "        vertical-align: middle;\n",
       "    }\n",
       "\n",
       "    .dataframe tbody tr th {\n",
       "        vertical-align: top;\n",
       "    }\n",
       "\n",
       "    .dataframe thead th {\n",
       "        text-align: right;\n",
       "    }\n",
       "</style>\n",
       "<table border=\"1\" class=\"dataframe\">\n",
       "  <thead>\n",
       "    <tr style=\"text-align: right;\">\n",
       "      <th></th>\n",
       "      <th>ad_cost_type</th>\n",
       "      <th>ctr</th>\n",
       "    </tr>\n",
       "  </thead>\n",
       "  <tbody>\n",
       "    <tr>\n",
       "      <th>0</th>\n",
       "      <td>CPC</td>\n",
       "      <td>0.012019</td>\n",
       "    </tr>\n",
       "    <tr>\n",
       "      <th>1</th>\n",
       "      <td>CPM</td>\n",
       "      <td>0.010490</td>\n",
       "    </tr>\n",
       "  </tbody>\n",
       "</table>\n",
       "</div>"
      ],
      "text/plain": [
       "  ad_cost_type       ctr\n",
       "0          CPC  0.012019\n",
       "1          CPM  0.010490"
      ]
     },
     "execution_count": 66,
     "metadata": {},
     "output_type": "execute_result"
    }
   ],
   "source": [
    "cost_type_df.groupby('ad_cost_type', as_index=False).agg({'ctr' : 'median'})"
   ]
  },
  {
   "cell_type": "code",
   "execution_count": 67,
   "metadata": {},
   "outputs": [
    {
     "data": {
      "text/html": [
       "<div>\n",
       "<style scoped>\n",
       "    .dataframe tbody tr th:only-of-type {\n",
       "        vertical-align: middle;\n",
       "    }\n",
       "\n",
       "    .dataframe tbody tr th {\n",
       "        vertical-align: top;\n",
       "    }\n",
       "\n",
       "    .dataframe thead th {\n",
       "        text-align: right;\n",
       "    }\n",
       "</style>\n",
       "<table border=\"1\" class=\"dataframe\">\n",
       "  <thead>\n",
       "    <tr style=\"text-align: right;\">\n",
       "      <th></th>\n",
       "      <th>ad_cost_type</th>\n",
       "      <th>ctr</th>\n",
       "    </tr>\n",
       "  </thead>\n",
       "  <tbody>\n",
       "    <tr>\n",
       "      <th>0</th>\n",
       "      <td>CPC</td>\n",
       "      <td>0.024107</td>\n",
       "    </tr>\n",
       "    <tr>\n",
       "      <th>1</th>\n",
       "      <td>CPM</td>\n",
       "      <td>0.019467</td>\n",
       "    </tr>\n",
       "  </tbody>\n",
       "</table>\n",
       "</div>"
      ],
      "text/plain": [
       "  ad_cost_type       ctr\n",
       "0          CPC  0.024107\n",
       "1          CPM  0.019467"
      ]
     },
     "execution_count": 67,
     "metadata": {},
     "output_type": "execute_result"
    }
   ],
   "source": [
    "cost_type_df.groupby('ad_cost_type', as_index=False).agg({'ctr' : 'mean'})"
   ]
  },
  {
   "cell_type": "code",
   "execution_count": 71,
   "metadata": {},
   "outputs": [
    {
     "data": {
      "text/html": [
       "<div>\n",
       "<style scoped>\n",
       "    .dataframe tbody tr th:only-of-type {\n",
       "        vertical-align: middle;\n",
       "    }\n",
       "\n",
       "    .dataframe tbody tr th {\n",
       "        vertical-align: top;\n",
       "    }\n",
       "\n",
       "    .dataframe thead th {\n",
       "        text-align: right;\n",
       "    }\n",
       "</style>\n",
       "<table border=\"1\" class=\"dataframe\">\n",
       "  <thead>\n",
       "    <tr style=\"text-align: right;\">\n",
       "      <th></th>\n",
       "      <th>ad_id</th>\n",
       "      <th>ad_cost_type</th>\n",
       "      <th>click</th>\n",
       "      <th>view</th>\n",
       "      <th>ctr</th>\n",
       "      <th>ctr_log</th>\n",
       "    </tr>\n",
       "  </thead>\n",
       "  <tbody>\n",
       "    <tr>\n",
       "      <th>0</th>\n",
       "      <td>3</td>\n",
       "      <td>CPC</td>\n",
       "      <td>9.0</td>\n",
       "      <td>490.0</td>\n",
       "      <td>0.018367</td>\n",
       "      <td>-3.997181</td>\n",
       "    </tr>\n",
       "    <tr>\n",
       "      <th>2</th>\n",
       "      <td>2276</td>\n",
       "      <td>CPC</td>\n",
       "      <td>2.0</td>\n",
       "      <td>1454.0</td>\n",
       "      <td>0.001376</td>\n",
       "      <td>-6.588926</td>\n",
       "    </tr>\n",
       "    <tr>\n",
       "      <th>4</th>\n",
       "      <td>2643</td>\n",
       "      <td>CPM</td>\n",
       "      <td>3.0</td>\n",
       "      <td>286.0</td>\n",
       "      <td>0.010490</td>\n",
       "      <td>-4.557380</td>\n",
       "    </tr>\n",
       "    <tr>\n",
       "      <th>5</th>\n",
       "      <td>4585</td>\n",
       "      <td>CPC</td>\n",
       "      <td>53.0</td>\n",
       "      <td>476.0</td>\n",
       "      <td>0.111345</td>\n",
       "      <td>-2.195126</td>\n",
       "    </tr>\n",
       "    <tr>\n",
       "      <th>6</th>\n",
       "      <td>4877</td>\n",
       "      <td>CPC</td>\n",
       "      <td>5.0</td>\n",
       "      <td>2160.0</td>\n",
       "      <td>0.002315</td>\n",
       "      <td>-6.068426</td>\n",
       "    </tr>\n",
       "  </tbody>\n",
       "</table>\n",
       "</div>"
      ],
      "text/plain": [
       "   ad_id ad_cost_type  click    view       ctr   ctr_log\n",
       "0      3          CPC    9.0   490.0  0.018367 -3.997181\n",
       "2   2276          CPC    2.0  1454.0  0.001376 -6.588926\n",
       "4   2643          CPM    3.0   286.0  0.010490 -4.557380\n",
       "5   4585          CPC   53.0   476.0  0.111345 -2.195126\n",
       "6   4877          CPC    5.0  2160.0  0.002315 -6.068426"
      ]
     },
     "execution_count": 71,
     "metadata": {},
     "output_type": "execute_result"
    }
   ],
   "source": [
    "cost_type_df.head()"
   ]
  },
  {
   "cell_type": "code",
   "execution_count": 77,
   "metadata": {},
   "outputs": [
    {
     "data": {
      "text/plain": [
       "0     -3.997181\n",
       "2     -6.588926\n",
       "5     -2.195126\n",
       "6     -6.068426\n",
       "7     -3.704823\n",
       "11    -5.831882\n",
       "13    -4.018549\n",
       "14    -4.766438\n",
       "15    -2.523226\n",
       "17    -4.884694\n",
       "19    -6.898715\n",
       "20    -4.655863\n",
       "21    -4.139159\n",
       "25    -3.061386\n",
       "31    -3.212187\n",
       "32    -3.459466\n",
       "34    -3.356746\n",
       "37    -6.362597\n",
       "52    -4.897840\n",
       "54    -4.826712\n",
       "82    -4.801285\n",
       "106   -4.525405\n",
       "117   -5.284218\n",
       "120   -4.695011\n",
       "125   -1.787876\n",
       "151   -4.882802\n",
       "155   -3.107436\n",
       "228   -3.791737\n",
       "245   -4.586242\n",
       "254   -4.686952\n",
       "255   -4.881286\n",
       "256   -3.309630\n",
       "258   -3.222790\n",
       "259   -3.530553\n",
       "266   -5.755215\n",
       "270   -3.367296\n",
       "279   -3.672496\n",
       "284   -2.981276\n",
       "295   -2.484907\n",
       "300   -4.337291\n",
       "301   -4.424847\n",
       "304   -4.789573\n",
       "306   -4.382027\n",
       "321   -3.719651\n",
       "322   -5.499215\n",
       "332   -4.465908\n",
       "333   -3.258097\n",
       "334   -4.409763\n",
       "335   -7.006695\n",
       "336   -4.421247\n",
       "337   -6.312944\n",
       "340   -7.013016\n",
       "348   -2.768245\n",
       "351   -4.743191\n",
       "354   -3.688379\n",
       "Name: ctr_log, dtype: float64"
      ]
     },
     "execution_count": 77,
     "metadata": {},
     "output_type": "execute_result"
    }
   ],
   "source": [
    "cost_type_df[cost_type_df.ad_cost_type == 'CPC'].ctr_log"
   ]
  },
  {
   "cell_type": "code",
   "execution_count": 78,
   "metadata": {},
   "outputs": [
    {
     "data": {
      "text/plain": [
       "Ttest_indResult(statistic=-1.1407296867039143, pvalue=0.25489224816951805)"
      ]
     },
     "execution_count": 78,
     "metadata": {},
     "output_type": "execute_result"
    }
   ],
   "source": [
    "ttest_ind(cost_type_df[cost_type_df.ad_cost_type == 'CPM'].ctr_log,\n",
    "         cost_type_df[cost_type_df.ad_cost_type == 'CPC'].ctr_log)"
   ]
  },
  {
   "cell_type": "code",
   "execution_count": 79,
   "metadata": {},
   "outputs": [
    {
     "data": {
      "text/plain": [
       "Ttest_indResult(statistic=-1.0366111047153586, pvalue=0.3007519549674309)"
      ]
     },
     "execution_count": 79,
     "metadata": {},
     "output_type": "execute_result"
    }
   ],
   "source": [
    "ttest_ind(cost_type_df[cost_type_df.ad_cost_type == 'CPM'].ctr,\n",
    "         cost_type_df[cost_type_df.ad_cost_type == 'CPC'].ctr)"
   ]
  },
  {
   "cell_type": "code",
   "execution_count": null,
   "metadata": {},
   "outputs": [],
   "source": []
  },
  {
   "cell_type": "code",
   "execution_count": null,
   "metadata": {},
   "outputs": [],
   "source": []
  }
 ],
 "metadata": {
  "kernelspec": {
   "display_name": "Python 3",
   "language": "python",
   "name": "python3"
  },
  "language_info": {
   "codemirror_mode": {
    "name": "ipython",
    "version": 3
   },
   "file_extension": ".py",
   "mimetype": "text/x-python",
   "name": "python",
   "nbconvert_exporter": "python",
   "pygments_lexer": "ipython3",
   "version": "3.7.3"
  }
 },
 "nbformat": 4,
 "nbformat_minor": 4
}
