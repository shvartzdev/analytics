{
 "cells": [
  {
   "cell_type": "markdown",
   "metadata": {},
   "source": [
    "### Задание 1\n",
    "\n",
    "Из 500 компьютеров  180 принадлежат к 1 партии, 170 – ко второй партии, остальные к третьей. В первой партии 3% брака, во второй — 2%, в третьей – 6%. Случайно выбирается один компьютер. Определить вероятность того, что выбранный компьютер – бракованный.  Округлите полученный ответ до десятитысячных. В качестве разделителя используйте точку.\n"
   ]
  },
  {
   "cell_type": "code",
   "execution_count": 10,
   "metadata": {},
   "outputs": [],
   "source": [
    "n1 = 180\n",
    "n2 = 170\n",
    "n3 = 500 - (n1+n2)\n",
    "S = n1+n2+n3\n",
    "\n",
    "p1 = 0.03\n",
    "p2 = 0.02\n",
    "p3 = 0.06"
   ]
  },
  {
   "cell_type": "code",
   "execution_count": 11,
   "metadata": {},
   "outputs": [
    {
     "data": {
      "text/plain": [
       "0.03559999999999999"
      ]
     },
     "execution_count": 11,
     "metadata": {},
     "output_type": "execute_result"
    }
   ],
   "source": [
    "PA = n1/S * p1 + n2/S * p2 + n3/S * p3\n",
    "PA"
   ]
  },
  {
   "cell_type": "markdown",
   "metadata": {},
   "source": [
    "### Задание 2\n",
    "\n",
    "Есть компания с программистами. В ней на языке Java пишут в 3 раза больше человек, чем на языке C++. Программистов на языке C++ в 4 раза больше, чем на Python. Вероятность сделать работу за один день для Java-программиста — 0,85, для программиста на языке C++ 0,9, а для Python программиста 0,8. Найти вероятность того, что программист, выбранный наугад, сделает работу за один день. Ответ округлите до сотых. В качестве десятичного разделителя используйте точку.\n"
   ]
  },
  {
   "cell_type": "code",
   "execution_count": 13,
   "metadata": {},
   "outputs": [
    {
     "data": {
      "text/plain": [
       "17"
      ]
     },
     "execution_count": 13,
     "metadata": {},
     "output_type": "execute_result"
    }
   ],
   "source": [
    "python = 1\n",
    "ci = 4*python\n",
    "java = 12*python\n",
    "S = python + ci + java\n",
    "\n",
    "p1 = 0.8\n",
    "p2 = 0.9\n",
    "p3 = 0.85\n",
    "S"
   ]
  },
  {
   "cell_type": "code",
   "execution_count": 14,
   "metadata": {},
   "outputs": [
    {
     "data": {
      "text/plain": [
       "0.8588235294117647"
      ]
     },
     "execution_count": 14,
     "metadata": {},
     "output_type": "execute_result"
    }
   ],
   "source": [
    "PA = python/S * p1 + ci/S * p2 + java/S * p3\n",
    "PA"
   ]
  },
  {
   "cell_type": "markdown",
   "metadata": {},
   "source": [
    "### Задание 3\n",
    "\n",
    "Из 40 снайперов 18 попадает в цель с вероятностью 0,9, 8 — с вероятностью 0,4 и 14 – с вероятностью 0,7. Случайно выбранный снайпер произвел выстрел, поразив цель. Мы хотим вычислить, снайпер из какой группы наиболее вероятно совершил этот выстрел. \n",
    "\n",
    "Посчитать вероятность всех трёх групп, выбрать наибольшую"
   ]
  },
  {
   "cell_type": "code",
   "execution_count": 15,
   "metadata": {},
   "outputs": [
    {
     "data": {
      "text/plain": [
       "40"
      ]
     },
     "execution_count": 15,
     "metadata": {},
     "output_type": "execute_result"
    }
   ],
   "source": [
    "n1 = 18\n",
    "n2 = 8\n",
    "n3 = 14\n",
    "S = n1+n2+n3\n",
    "\n",
    "p1 = 0.9\n",
    "p2 = 0.4\n",
    "p3 = 0.7\n",
    "S"
   ]
  },
  {
   "cell_type": "code",
   "execution_count": 16,
   "metadata": {},
   "outputs": [
    {
     "data": {
      "text/plain": [
       "0.73"
      ]
     },
     "execution_count": 16,
     "metadata": {},
     "output_type": "execute_result"
    }
   ],
   "source": [
    "PA = n1/S * p1 + n2/S * p2 + n3/S * p3\n",
    "PA"
   ]
  },
  {
   "cell_type": "code",
   "execution_count": 17,
   "metadata": {},
   "outputs": [
    {
     "data": {
      "text/plain": [
       "0.5547945205479452"
      ]
     },
     "execution_count": 17,
     "metadata": {},
     "output_type": "execute_result"
    }
   ],
   "source": [
    "#P(H1/A) = (P(H1) * P(A/H1) )/ P(A)\n",
    "Prob1 = n1/S*p1 / PA\n",
    "Prob1"
   ]
  },
  {
   "cell_type": "code",
   "execution_count": 18,
   "metadata": {},
   "outputs": [
    {
     "data": {
      "text/plain": [
       "0.10958904109589043"
      ]
     },
     "execution_count": 18,
     "metadata": {},
     "output_type": "execute_result"
    }
   ],
   "source": [
    "Prob2 = n2/S*p2 / PA\n",
    "Prob2"
   ]
  },
  {
   "cell_type": "code",
   "execution_count": 19,
   "metadata": {},
   "outputs": [
    {
     "data": {
      "text/plain": [
       "0.33561643835616434"
      ]
     },
     "execution_count": 19,
     "metadata": {},
     "output_type": "execute_result"
    }
   ],
   "source": [
    "Prob3 = n3/S*p3 / PA\n",
    "Prob3"
   ]
  },
  {
   "cell_type": "markdown",
   "metadata": {},
   "source": [
    "### Задание 4\n",
    "\n",
    "Есть 4 кубика. На трех из них окрашена белым половина граней, а на четвертом кубике всего одна грань из шести белая. Наудачу выбранный кубик подбрасывается семь раз. Найти вероятность того, что был выбран четвертый кубик, если при семи подбрасываниях белая грань выпала ровно один раз.  Ответ округлите до тысячных. Используйте точку в качестве десятичного разделителя.\n"
   ]
  },
  {
   "cell_type": "markdown",
   "metadata": {},
   "source": [
    "### Задание 5\n",
    "\n",
    "На гитхабе лежит 12 скриптов, написанных аналитиком №1, 20 скриптов — написанных аналитиком №2 и 18 скриптов — написанных аналитиком №3. Вероятность того, что скрипт, написанный аналитиком №1, работает  без ошибок, равна 0,9; для скриптов, написанных аналитиками  №2 и №3, эти вероятности соответственно равны 0,6 и 0,9.\n",
    "\n",
    "Нужно найти вероятность того, что случайно взятый скрипт будет работать без ошибок. В ответ запишите число, округленное до сотых. В качестве десятичного разделителя используйте точку."
   ]
  },
  {
   "cell_type": "code",
   "execution_count": 20,
   "metadata": {},
   "outputs": [
    {
     "data": {
      "text/plain": [
       "50"
      ]
     },
     "execution_count": 20,
     "metadata": {},
     "output_type": "execute_result"
    }
   ],
   "source": [
    "n1 = 12\n",
    "n2 = 20\n",
    "n3 = 18\n",
    "S = n1+n2+n3\n",
    "\n",
    "p1 = 0.9\n",
    "p2 = 0.6\n",
    "p3 = 0.9\n",
    "S"
   ]
  },
  {
   "cell_type": "code",
   "execution_count": 21,
   "metadata": {},
   "outputs": [
    {
     "data": {
      "text/plain": [
       "0.78"
      ]
     },
     "execution_count": 21,
     "metadata": {},
     "output_type": "execute_result"
    }
   ],
   "source": [
    "PA = n1/S * p1 + n2/S * p2 + n3/S * p3\n",
    "PA"
   ]
  },
  {
   "cell_type": "markdown",
   "metadata": {},
   "source": [
    "### Задание 6\n",
    "\n",
    "Известно, что около 60% всех людей в городе болеют заболеванием А. Для определения того, заболел человек или нет, проводится тест, точность которого составляет 99%. Вы получили положительный тест, какова вероятность того, что вы реально больны?"
   ]
  },
  {
   "cell_type": "code",
   "execution_count": 22,
   "metadata": {},
   "outputs": [
    {
     "data": {
      "text/plain": [
       "0.9933110367892977"
      ]
     },
     "execution_count": 22,
     "metadata": {},
     "output_type": "execute_result"
    }
   ],
   "source": [
    "percent_i = 0.6\n",
    "percent_w = 0.4\n",
    "\n",
    "p_i = 0.99\n",
    "q_w = 1 - p_i\n",
    "\n",
    "p_a = percent_i * p_i + percent_w * q_w\n",
    "\n",
    "p = percent_i * p_i / p_a\n",
    "p"
   ]
  },
  {
   "cell_type": "markdown",
   "metadata": {},
   "source": [
    "### Задание 7\n",
    "\n",
    "Три фабрики производят лампочки. Фабрика А производит 20% всех лампочек, 50% лампочек производится на фабрике В и оставшиеся 30% на фабрике С. 2% лампочек, произведенных на фабрике А, 1% лампочек, произведенных на фабрике В, и 3% лампочек, произведенных на фабрике С, являются бракованными.На рынке наугад выбирается лампочка и оказывается бракованной. Какова вероятность того, что эта лампочка была произведена на заводе B?"
   ]
  },
  {
   "cell_type": "code",
   "execution_count": 23,
   "metadata": {},
   "outputs": [
    {
     "data": {
      "text/plain": [
       "100"
      ]
     },
     "execution_count": 23,
     "metadata": {},
     "output_type": "execute_result"
    }
   ],
   "source": [
    "n1 = 20\n",
    "n2 = 50\n",
    "n3 = 30\n",
    "S = n1+n2+n3\n",
    "\n",
    "p1 = 0.02\n",
    "p2 = 0.01\n",
    "p3 = 0.03\n",
    "S"
   ]
  },
  {
   "cell_type": "code",
   "execution_count": 25,
   "metadata": {},
   "outputs": [
    {
     "data": {
      "text/plain": [
       "0.018000000000000002"
      ]
     },
     "execution_count": 25,
     "metadata": {},
     "output_type": "execute_result"
    }
   ],
   "source": [
    "PA = n1/S * p1 + n2/S * p2 + n3/S * p3\n",
    "PA"
   ]
  },
  {
   "cell_type": "code",
   "execution_count": 26,
   "metadata": {},
   "outputs": [
    {
     "data": {
      "text/plain": [
       "0.27777777777777773"
      ]
     },
     "execution_count": 26,
     "metadata": {},
     "output_type": "execute_result"
    }
   ],
   "source": [
    "Prob2 = n2/S*p2 / PA\n",
    "Prob2"
   ]
  },
  {
   "cell_type": "markdown",
   "metadata": {},
   "source": [
    "### Задание 10\n",
    "\n",
    "Передатчик аварийного локатора самолета (ELT) - это устройство, предназначенное для передачи сигнала в случае аварии. Компания A производит 80% всех ELT на рынке, компания B - 15%, а компания C - остальные 5%. Уровень дефектности ELT, произведенных компанией A, составляет 4%, компанией B - 6%, а компанией C - 9%. Случайно выбранный ELT был протестирован и оказался бракованным. Найдите вероятность того, что он был произведен компанией A."
   ]
  },
  {
   "cell_type": "code",
   "execution_count": 27,
   "metadata": {},
   "outputs": [
    {
     "data": {
      "text/plain": [
       "100"
      ]
     },
     "execution_count": 27,
     "metadata": {},
     "output_type": "execute_result"
    }
   ],
   "source": [
    "n1 = 80\n",
    "n2 = 15\n",
    "n3 = 5\n",
    "S = n1+n2+n3\n",
    "\n",
    "p1 = 0.04\n",
    "p2 = 0.06\n",
    "p3 = 0.09\n",
    "S"
   ]
  },
  {
   "cell_type": "code",
   "execution_count": 28,
   "metadata": {},
   "outputs": [
    {
     "data": {
      "text/plain": [
       "0.0455"
      ]
     },
     "execution_count": 28,
     "metadata": {},
     "output_type": "execute_result"
    }
   ],
   "source": [
    "PA = n1/S * p1 + n2/S * p2 + n3/S * p3\n",
    "PA"
   ]
  },
  {
   "cell_type": "code",
   "execution_count": 29,
   "metadata": {},
   "outputs": [
    {
     "data": {
      "text/plain": [
       "0.7032967032967034"
      ]
     },
     "execution_count": 29,
     "metadata": {},
     "output_type": "execute_result"
    }
   ],
   "source": [
    "Prob1 = n1/S*p1 / PA\n",
    "Prob1"
   ]
  },
  {
   "cell_type": "markdown",
   "metadata": {},
   "source": [
    "### Задание 8\n",
    "\n",
    "Система РЛС (радиолокационная система) может обнаружить присутствие самолета в 98% случаев. Однако если в зоне действия радара нет самолета, система все равно сообщает (ложно), что самолет присутствует, в 5% случаев. В любой момент времени вероятность того, что самолет находится в зоне действия радара, составляет 7%.Какова вероятность того, что самолет находится в зоне действия радара, учитывая, что на радаре нет самолета?\n",
    "\n",
    "Задание 9 – то же про наличие самолёта"
   ]
  },
  {
   "cell_type": "code",
   "execution_count": 30,
   "metadata": {},
   "outputs": [
    {
     "data": {
      "text/plain": [
       "0.001582099672279354"
      ]
     },
     "execution_count": 30,
     "metadata": {},
     "output_type": "execute_result"
    }
   ],
   "source": [
    "p1 = 0.07 # самолет в зоне РЛС\n",
    "p11 = 0.02 # самолет не отображается\n",
    "\n",
    "p2 = 1 - p1 # самолет НЕ в зоне РЛС\n",
    "p22 = 0.95 # самолет НЕ отображается\n",
    "\n",
    "\n",
    "p_a = p1 * p11 +  p2 * p22\n",
    "\n",
    "p =  (p1 * p11) / p_a\n",
    "p"
   ]
  },
  {
   "cell_type": "code",
   "execution_count": 31,
   "metadata": {},
   "outputs": [
    {
     "data": {
      "text/plain": [
       "0.5960034752389227"
      ]
     },
     "execution_count": 31,
     "metadata": {},
     "output_type": "execute_result"
    }
   ],
   "source": [
    "p1 = 0.07 # самолет в зоне РЛС\n",
    "p11 = 0.98 # самолет отображается\n",
    "\n",
    "p2 = 1 - p1 # самолет НЕ в зоне РЛС\n",
    "p22 = 0.05 # самолет отображается\n",
    "\n",
    "\n",
    "p_a = p1 * p11 +  p2 * p22\n",
    "\n",
    "p =  (p1 * p11) / p_a\n",
    "p"
   ]
  }
 ],
 "metadata": {
  "kernelspec": {
   "display_name": "Python 3",
   "language": "python",
   "name": "python3"
  },
  "language_info": {
   "codemirror_mode": {
    "name": "ipython",
    "version": 3
   },
   "file_extension": ".py",
   "mimetype": "text/x-python",
   "name": "python",
   "nbconvert_exporter": "python",
   "pygments_lexer": "ipython3",
   "version": "3.7.3"
  }
 },
 "nbformat": 4,
 "nbformat_minor": 4
}
