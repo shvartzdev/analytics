{
 "cells": [
  {
   "cell_type": "markdown",
   "metadata": {},
   "source": [
    "### Задание 1\n",
    "\n",
    "Начнём с простого: сохраните в переменную age произвольный возраст, выраженный целым числом, а в переменную name – какое-нибудь имя в виде строки."
   ]
  },
  {
   "cell_type": "code",
   "execution_count": 1,
   "metadata": {},
   "outputs": [],
   "source": [
    "age = 25\n",
    "name = 'Darya'"
   ]
  },
  {
   "cell_type": "markdown",
   "metadata": {},
   "source": [
    "### Задание 2\n",
    "\n",
    "Создайте список user_info, содержащий 4 элемента в следующем порядке:\n",
    "\n",
    "2 строки (имя и фамилия пользователя)  \n",
    "1 дробное число (зарплата)  \n",
    "1 целое число (стаж)  "
   ]
  },
  {
   "cell_type": "code",
   "execution_count": 2,
   "metadata": {},
   "outputs": [],
   "source": [
    "user_info = ['dar', 'shvartz', 0.5, 1]"
   ]
  },
  {
   "cell_type": "markdown",
   "metadata": {},
   "source": [
    "### Задание 3\n",
    "\n",
    "Поместите в переменную ```first``` первый (т.е. нулевой) элемент из списка ```salaries```.  \n",
    "\n",
    "Сам список создавать не нужно, он уже находится в переменной salaries. Пример данных, которые могут в нем быть: ```[42, 100, 70, 80]```"
   ]
  },
  {
   "cell_type": "code",
   "execution_count": 4,
   "metadata": {},
   "outputs": [],
   "source": [
    "salaries = [42, 100, 70, 80]\n",
    "first = salaries[0]"
   ]
  },
  {
   "cell_type": "markdown",
   "metadata": {},
   "source": [
    "### Задание 4\n",
    "\n",
    "Добавьте в уже созданный список users элементы ```'Voronov'``` и ```42```.\n",
    "\n",
    "Сам список создавать не нужно, он уже находится в переменной users."
   ]
  },
  {
   "cell_type": "code",
   "execution_count": 6,
   "metadata": {},
   "outputs": [
    {
     "data": {
      "text/plain": [
       "['Voronov', 42]"
      ]
     },
     "execution_count": 6,
     "metadata": {},
     "output_type": "execute_result"
    }
   ],
   "source": [
    "users = []\n",
    "users.append('Voronov')\n",
    "users.append(42)\n",
    "users"
   ]
  },
  {
   "cell_type": "markdown",
   "metadata": {},
   "source": [
    "### Задание 5\n",
    "\n",
    "В переменной ```user_ages``` содержится список возрастов клиентов. Напишите цикл, выводящий на печать элементы больше 18.\n",
    "\n",
    "Сам список создавать не нужно, он уже находится в переменной user_ages. Пример данных, которые могут быть в user_ages: ```user_ages = [10, 18, 21, 35, 42, 27, 12, 16]```"
   ]
  },
  {
   "cell_type": "code",
   "execution_count": 7,
   "metadata": {},
   "outputs": [],
   "source": [
    "user_ages = [10, 18, 21, 35, 42, 27, 12, 16]"
   ]
  },
  {
   "cell_type": "code",
   "execution_count": 8,
   "metadata": {},
   "outputs": [
    {
     "name": "stdout",
     "output_type": "stream",
     "text": [
      "21\n",
      "35\n",
      "42\n",
      "27\n"
     ]
    }
   ],
   "source": [
    "for i in user_ages: \n",
    "    if i > 18:\n",
    "        print(i)"
   ]
  },
  {
   "cell_type": "markdown",
   "metadata": {},
   "source": [
    "### Задание 6\n",
    "\n",
    "Напишите программу, проверяющую стаж работы сотрудника. В переменной ```worker``` уже содержится список, содержащий значения: имя, фамилия, зарплата, стаж. Поместите в переменную ```status``` следующую строку:  \n",
    "\n",
    "```user_name user_family is position```\n",
    "\n",
    "где ```user_name``` и ```user_family``` — имя и фамилия сотрудника, а ```position``` — одно из следующих значений:\n",
    "\n",
    "```'junior'``` — стаж меньше 2 лет  \n",
    "```'middle'``` — стаж больше либо равен 2 лет и меньше или равен 5  \n",
    "```'senior'``` — стаж больше 5 лет   "
   ]
  },
  {
   "cell_type": "code",
   "execution_count": 9,
   "metadata": {},
   "outputs": [],
   "source": [
    "worker = ['Olya', 'Silyutina', 350000, 3]\n",
    "\n",
    "if worker[-1] < 2:\n",
    "    stag = 'junior'\n",
    "elif worker[-1] >= 2 and worker[-1] < 5:\n",
    "    stag = 'middle'\n",
    "else: stag = 'senior'\n",
    "\n",
    "status = f\"{worker[0]} {worker[1]} is {stag}\""
   ]
  },
  {
   "cell_type": "code",
   "execution_count": 10,
   "metadata": {},
   "outputs": [
    {
     "data": {
      "text/plain": [
       "'Olya Silyutina is middle'"
      ]
     },
     "execution_count": 10,
     "metadata": {},
     "output_type": "execute_result"
    }
   ],
   "source": [
    "status"
   ]
  },
  {
   "cell_type": "markdown",
   "metadata": {},
   "source": [
    "### Задание 7\n",
    "\n",
    "В списке values содержатся числовые значения. Создайте список ```tens``` и добавьте в него все числа из ```values```, которые делятся на 10 нацело."
   ]
  },
  {
   "cell_type": "code",
   "execution_count": 11,
   "metadata": {},
   "outputs": [],
   "source": [
    "values = [12, 134, 10, 47, 100, 20, 50, 160, 210]"
   ]
  },
  {
   "cell_type": "code",
   "execution_count": 12,
   "metadata": {},
   "outputs": [],
   "source": [
    "tens = []\n",
    "\n",
    "for i in values:\n",
    "    if i % 10 == 0:\n",
    "        tens.append(i)"
   ]
  },
  {
   "cell_type": "code",
   "execution_count": 13,
   "metadata": {},
   "outputs": [
    {
     "data": {
      "text/plain": [
       "[10, 100, 20, 50, 160, 210]"
      ]
     },
     "execution_count": 13,
     "metadata": {},
     "output_type": "execute_result"
    }
   ],
   "source": [
    "tens"
   ]
  },
  {
   "cell_type": "markdown",
   "metadata": {},
   "source": [
    "### Задание 8\n",
    "\n",
    "Реализуйте цикл, который пробегается по уже созданному списку ```workers``` и выводит для каждого сотрудника следующую строку (то есть печатает её для каждого элемента списка):\n",
    "\n",
    "```user_name user_family is position```"
   ]
  },
  {
   "cell_type": "code",
   "execution_count": 14,
   "metadata": {},
   "outputs": [],
   "source": [
    "workers = [['Ivan', 'Ivanov', 100000, 1], ['Petr', 'Petrov', 150000, 2], ['Sidor', 'Sidorov', 200000, 10]]"
   ]
  },
  {
   "cell_type": "code",
   "execution_count": 15,
   "metadata": {},
   "outputs": [
    {
     "name": "stdout",
     "output_type": "stream",
     "text": [
      "Ivan Ivanov is junior\n",
      "Petr Petrov is middle\n",
      "Sidor Sidorov is senior\n"
     ]
    }
   ],
   "source": [
    "stag = ''\n",
    "\n",
    "for i in workers:\n",
    "    if i[-1] < 2:\n",
    "       stag = 'junior'\n",
    "    elif i[-1] >= 2 and i[-1] <= 5:\n",
    "       stag = 'middle'\n",
    "    else: stag = 'senior'\n",
    "    \n",
    "    status = f\"{i[0]} {i[1]} is {stag}\"\n",
    "    print(status)"
   ]
  },
  {
   "cell_type": "markdown",
   "metadata": {},
   "source": [
    "### Задание 9\n",
    "\n",
    "Поместите в список ```lst``` числа от 0 (n = 0) до 10 включительно (N = 10) c шагом 2 (dn = 2). Для этого используйте условие while."
   ]
  },
  {
   "cell_type": "code",
   "execution_count": 16,
   "metadata": {},
   "outputs": [],
   "source": [
    "a = 0\n",
    "lst = []\n",
    "\n",
    "while a <= 10:\n",
    "    lst.append(a)\n",
    "    a += 2"
   ]
  },
  {
   "cell_type": "code",
   "execution_count": 17,
   "metadata": {},
   "outputs": [
    {
     "data": {
      "text/plain": [
       "[0, 2, 4, 6, 8, 10]"
      ]
     },
     "execution_count": 17,
     "metadata": {},
     "output_type": "execute_result"
    }
   ],
   "source": [
    "lst"
   ]
  },
  {
   "cell_type": "markdown",
   "metadata": {},
   "source": [
    "### Задание 10 и 11"
   ]
  },
  {
   "cell_type": "code",
   "execution_count": 18,
   "metadata": {},
   "outputs": [],
   "source": [
    "salaries_dict = {'name' : 'Masha',\n",
    "                 'surname' : 'Volkova',\n",
    "                 'age' : 25,\n",
    "                 'salary' : 60000,\n",
    "                 'position' : 'junior'\n",
    "                }"
   ]
  },
  {
   "cell_type": "code",
   "execution_count": 19,
   "metadata": {},
   "outputs": [
    {
     "data": {
      "text/plain": [
       "{'name': 'Masha',\n",
       " 'surname': 'Volkova',\n",
       " 'age': 25,\n",
       " 'salary': 60000,\n",
       " 'position': 'junior'}"
      ]
     },
     "execution_count": 19,
     "metadata": {},
     "output_type": "execute_result"
    }
   ],
   "source": [
    "salaries_dict"
   ]
  },
  {
   "cell_type": "code",
   "execution_count": 20,
   "metadata": {},
   "outputs": [],
   "source": [
    "users_dict = {'mvolkova' : {'name' : 'Masha', 'surname' : 'Volkova', 'age' : 25, 'salary' : 60000, 'position' : 'junior'},\n",
    "              'pvoronov' : {'name' : 'Peter', 'surname' : 'Voronov', 'age' : 27, 'salary' : 100000, 'position' : 'junior'},\n",
    "              'pparker' : {'name' : 'Peter', 'surname' : 'Parker', 'age' : 35, 'salary' : 150000, 'position' : 'middle'},\n",
    "              'akarpov' : {'name' : 'Anatoly', 'surname' : 'Karpov', 'age' : 30, 'salary' : 250000, 'position' : 'senior'}\n",
    "              \n",
    "             }"
   ]
  },
  {
   "cell_type": "code",
   "execution_count": 21,
   "metadata": {},
   "outputs": [
    {
     "data": {
      "text/plain": [
       "{'mvolkova': {'name': 'Masha',\n",
       "  'surname': 'Volkova',\n",
       "  'age': 25,\n",
       "  'salary': 60000,\n",
       "  'position': 'junior'},\n",
       " 'pvoronov': {'name': 'Peter',\n",
       "  'surname': 'Voronov',\n",
       "  'age': 27,\n",
       "  'salary': 100000,\n",
       "  'position': 'junior'},\n",
       " 'pparker': {'name': 'Peter',\n",
       "  'surname': 'Parker',\n",
       "  'age': 35,\n",
       "  'salary': 150000,\n",
       "  'position': 'middle'},\n",
       " 'akarpov': {'name': 'Anatoly',\n",
       "  'surname': 'Karpov',\n",
       "  'age': 30,\n",
       "  'salary': 250000,\n",
       "  'position': 'senior'}}"
      ]
     },
     "execution_count": 21,
     "metadata": {},
     "output_type": "execute_result"
    }
   ],
   "source": [
    "users_dict"
   ]
  },
  {
   "cell_type": "code",
   "execution_count": null,
   "metadata": {},
   "outputs": [],
   "source": []
  }
 ],
 "metadata": {
  "kernelspec": {
   "display_name": "Python 3",
   "language": "python",
   "name": "python3"
  },
  "language_info": {
   "codemirror_mode": {
    "name": "ipython",
    "version": 3
   },
   "file_extension": ".py",
   "mimetype": "text/x-python",
   "name": "python",
   "nbconvert_exporter": "python",
   "pygments_lexer": "ipython3",
   "version": "3.7.3"
  }
 },
 "nbformat": 4,
 "nbformat_minor": 4
}
