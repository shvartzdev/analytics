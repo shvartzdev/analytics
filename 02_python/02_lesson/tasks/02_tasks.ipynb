{
 "cells": [
  {
   "cell_type": "code",
   "execution_count": 1,
   "metadata": {},
   "outputs": [],
   "source": [
    "import pandas as pd"
   ]
  },
  {
   "cell_type": "markdown",
   "metadata": {},
   "source": [
    "### Описание данных\n",
    "\n",
    "```pickup_dt``` – период с точностью до часа  \n",
    "```pickup_month``` – месяц  \n",
    "```borough``` – район Нью-Йорка, из которого был сделан заказ (5 районов + аэропорт)  \n",
    "```pickups``` – число поездок за период (час)  \n",
    "```hday``` – является ли день праздничным/выходным; Y - да,  N - нет  \n",
    "```spd``` – скорость ветра в милях в час  \n",
    "```vsb``` – видимость  \n",
    "```temp``` – температура в градусах Фаренгейта  \n",
    "```dewp``` – точка росы по Фаренгейту  \n",
    "```slp``` – давление  \n",
    "```pcp_01``` – количество осадков за час  \n",
    "```pcp_06``` – количество осадков за 6 часов  \n",
    "```pcp_24``` – количество осадков за 24 часа  \n",
    "```sd``` – глубина снега в дюймах"
   ]
  },
  {
   "cell_type": "markdown",
   "metadata": {},
   "source": [
    "### Задание 1\n",
    "Проверьте, сколько всего строк и столбцов имеется в датасете."
   ]
  },
  {
   "cell_type": "code",
   "execution_count": 6,
   "metadata": {},
   "outputs": [],
   "source": [
    "taxi = pd.read_csv('2_taxi_nyc.csv')"
   ]
  },
  {
   "cell_type": "code",
   "execution_count": 7,
   "metadata": {},
   "outputs": [
    {
     "data": {
      "text/plain": [
       "(29101, 14)"
      ]
     },
     "execution_count": 7,
     "metadata": {},
     "output_type": "execute_result"
    }
   ],
   "source": [
    "taxi.shape"
   ]
  },
  {
   "cell_type": "markdown",
   "metadata": {},
   "source": [
    "### Задание 2\n",
    "\n",
    "Давайте посмотрим на типы колонок. Все ли из них считались правильно? В качестве ответа выберите тип, преобладающий в датасете."
   ]
  },
  {
   "cell_type": "code",
   "execution_count": 8,
   "metadata": {},
   "outputs": [
    {
     "data": {
      "text/html": [
       "<div>\n",
       "<style scoped>\n",
       "    .dataframe tbody tr th:only-of-type {\n",
       "        vertical-align: middle;\n",
       "    }\n",
       "\n",
       "    .dataframe tbody tr th {\n",
       "        vertical-align: top;\n",
       "    }\n",
       "\n",
       "    .dataframe thead th {\n",
       "        text-align: right;\n",
       "    }\n",
       "</style>\n",
       "<table border=\"1\" class=\"dataframe\">\n",
       "  <thead>\n",
       "    <tr style=\"text-align: right;\">\n",
       "      <th></th>\n",
       "      <th>pickup_dt</th>\n",
       "      <th>pickup_month</th>\n",
       "      <th>borough</th>\n",
       "      <th>pickups</th>\n",
       "      <th>hday</th>\n",
       "      <th>spd</th>\n",
       "      <th>vsb</th>\n",
       "      <th>temp</th>\n",
       "      <th>dewp</th>\n",
       "      <th>slp</th>\n",
       "      <th>pcp 01</th>\n",
       "      <th>pcp 06</th>\n",
       "      <th>pcp 24</th>\n",
       "      <th>sd</th>\n",
       "    </tr>\n",
       "  </thead>\n",
       "  <tbody>\n",
       "    <tr>\n",
       "      <th>0</th>\n",
       "      <td>2015-01-01 01:00:00</td>\n",
       "      <td>Jan</td>\n",
       "      <td>Bronx</td>\n",
       "      <td>152</td>\n",
       "      <td>Y</td>\n",
       "      <td>5.0</td>\n",
       "      <td>10.0</td>\n",
       "      <td>30.0</td>\n",
       "      <td>7.0</td>\n",
       "      <td>1023.5</td>\n",
       "      <td>0.0</td>\n",
       "      <td>0.0</td>\n",
       "      <td>0.0</td>\n",
       "      <td>0.0</td>\n",
       "    </tr>\n",
       "    <tr>\n",
       "      <th>1</th>\n",
       "      <td>2015-01-01 01:00:00</td>\n",
       "      <td>Jan</td>\n",
       "      <td>Brooklyn</td>\n",
       "      <td>1519</td>\n",
       "      <td>Y</td>\n",
       "      <td>5.0</td>\n",
       "      <td>10.0</td>\n",
       "      <td>30.0</td>\n",
       "      <td>7.0</td>\n",
       "      <td>1023.5</td>\n",
       "      <td>0.0</td>\n",
       "      <td>0.0</td>\n",
       "      <td>0.0</td>\n",
       "      <td>0.0</td>\n",
       "    </tr>\n",
       "    <tr>\n",
       "      <th>2</th>\n",
       "      <td>2015-01-01 01:00:00</td>\n",
       "      <td>Jan</td>\n",
       "      <td>EWR</td>\n",
       "      <td>0</td>\n",
       "      <td>Y</td>\n",
       "      <td>5.0</td>\n",
       "      <td>10.0</td>\n",
       "      <td>30.0</td>\n",
       "      <td>7.0</td>\n",
       "      <td>1023.5</td>\n",
       "      <td>0.0</td>\n",
       "      <td>0.0</td>\n",
       "      <td>0.0</td>\n",
       "      <td>0.0</td>\n",
       "    </tr>\n",
       "    <tr>\n",
       "      <th>3</th>\n",
       "      <td>2015-01-01 01:00:00</td>\n",
       "      <td>Jan</td>\n",
       "      <td>Manhattan</td>\n",
       "      <td>5258</td>\n",
       "      <td>Y</td>\n",
       "      <td>5.0</td>\n",
       "      <td>10.0</td>\n",
       "      <td>30.0</td>\n",
       "      <td>7.0</td>\n",
       "      <td>1023.5</td>\n",
       "      <td>0.0</td>\n",
       "      <td>0.0</td>\n",
       "      <td>0.0</td>\n",
       "      <td>0.0</td>\n",
       "    </tr>\n",
       "    <tr>\n",
       "      <th>4</th>\n",
       "      <td>2015-01-01 01:00:00</td>\n",
       "      <td>Jan</td>\n",
       "      <td>Queens</td>\n",
       "      <td>405</td>\n",
       "      <td>Y</td>\n",
       "      <td>5.0</td>\n",
       "      <td>10.0</td>\n",
       "      <td>30.0</td>\n",
       "      <td>7.0</td>\n",
       "      <td>1023.5</td>\n",
       "      <td>0.0</td>\n",
       "      <td>0.0</td>\n",
       "      <td>0.0</td>\n",
       "      <td>0.0</td>\n",
       "    </tr>\n",
       "  </tbody>\n",
       "</table>\n",
       "</div>"
      ],
      "text/plain": [
       "             pickup_dt pickup_month    borough  pickups hday  spd   vsb  temp  \\\n",
       "0  2015-01-01 01:00:00          Jan      Bronx      152    Y  5.0  10.0  30.0   \n",
       "1  2015-01-01 01:00:00          Jan   Brooklyn     1519    Y  5.0  10.0  30.0   \n",
       "2  2015-01-01 01:00:00          Jan        EWR        0    Y  5.0  10.0  30.0   \n",
       "3  2015-01-01 01:00:00          Jan  Manhattan     5258    Y  5.0  10.0  30.0   \n",
       "4  2015-01-01 01:00:00          Jan     Queens      405    Y  5.0  10.0  30.0   \n",
       "\n",
       "   dewp     slp  pcp 01  pcp 06  pcp 24   sd  \n",
       "0   7.0  1023.5     0.0     0.0     0.0  0.0  \n",
       "1   7.0  1023.5     0.0     0.0     0.0  0.0  \n",
       "2   7.0  1023.5     0.0     0.0     0.0  0.0  \n",
       "3   7.0  1023.5     0.0     0.0     0.0  0.0  \n",
       "4   7.0  1023.5     0.0     0.0     0.0  0.0  "
      ]
     },
     "execution_count": 8,
     "metadata": {},
     "output_type": "execute_result"
    }
   ],
   "source": [
    "taxi.head()"
   ]
  },
  {
   "cell_type": "code",
   "execution_count": 9,
   "metadata": {},
   "outputs": [
    {
     "data": {
      "text/plain": [
       "pickup_dt        object\n",
       "pickup_month     object\n",
       "borough          object\n",
       "pickups           int64\n",
       "hday             object\n",
       "spd             float64\n",
       "vsb             float64\n",
       "temp            float64\n",
       "dewp            float64\n",
       "slp             float64\n",
       "pcp 01          float64\n",
       "pcp 06          float64\n",
       "pcp 24          float64\n",
       "sd              float64\n",
       "dtype: object"
      ]
     },
     "execution_count": 9,
     "metadata": {},
     "output_type": "execute_result"
    }
   ],
   "source": [
    "taxi.dtypes"
   ]
  },
  {
   "cell_type": "markdown",
   "metadata": {},
   "source": [
    "### Задание 3\n",
    "\n",
    "В названиях столбцов ```pcp 01```, ```pcp 06```, ```pcp 24``` встречается пробел. Это не очень удобно, если в дальнейшем вы планируете обращаться к колонкам через точку, без использования кавычек и скобочек. \n",
    "\n",
    "Замените пробел в названиях на знак нижнего подчеркивания. "
   ]
  },
  {
   "cell_type": "code",
   "execution_count": 10,
   "metadata": {},
   "outputs": [],
   "source": [
    "taxi = taxi.rename(columns = {\"pcp 01\": \"pcp_01\", \"pcp 06\": \"pcp_06\", \"pcp 24\" : \"pcp_24\"})"
   ]
  },
  {
   "cell_type": "markdown",
   "metadata": {},
   "source": [
    "### Задание 4\n",
    "\n",
    "Вас попросили узнать, сколько записей (строк) в датафрейме относятся к району Манхэттен (Manhattan). Получить ответ на данный вопрос можно было бы, например, с помощью следующей команды:\n",
    "\n",
    "```taxi.query(\"borough == 'Manhattan'\").shape[0]```\n",
    "\n",
    "Сколько раз в данных встречается район Бруклин (Brooklyn)?"
   ]
  },
  {
   "cell_type": "code",
   "execution_count": 12,
   "metadata": {},
   "outputs": [
    {
     "data": {
      "text/plain": [
       "Queens           4343\n",
       "Manhattan        4343\n",
       "Bronx            4343\n",
       "EWR              4343\n",
       "Brooklyn         4343\n",
       "Staten Island    4343\n",
       "Name: borough, dtype: int64"
      ]
     },
     "execution_count": 12,
     "metadata": {},
     "output_type": "execute_result"
    }
   ],
   "source": [
    "taxi.borough.value_counts()"
   ]
  },
  {
   "cell_type": "markdown",
   "metadata": {},
   "source": [
    "### Задание 5\n",
    "\n",
    "Следующая задача: выяснить, из какого района было совершено наибольшее количество поездок за весь период. Для начала, посчитайте общее количество поездок (```pickups```), без группировки."
   ]
  },
  {
   "cell_type": "code",
   "execution_count": 17,
   "metadata": {},
   "outputs": [
    {
     "data": {
      "text/plain": [
       "14265773"
      ]
     },
     "execution_count": 17,
     "metadata": {},
     "output_type": "execute_result"
    }
   ],
   "source": [
    "taxi.pickups.sum()"
   ]
  },
  {
   "cell_type": "markdown",
   "metadata": {},
   "source": [
    "### Задание 6\n",
    "\n",
    "А теперь сгруппируйте данные по району (borough) и укажите, из какого пункта было совершено больше всего поездок."
   ]
  },
  {
   "cell_type": "code",
   "execution_count": 25,
   "metadata": {},
   "outputs": [
    {
     "data": {
      "text/html": [
       "<div>\n",
       "<style scoped>\n",
       "    .dataframe tbody tr th:only-of-type {\n",
       "        vertical-align: middle;\n",
       "    }\n",
       "\n",
       "    .dataframe tbody tr th {\n",
       "        vertical-align: top;\n",
       "    }\n",
       "\n",
       "    .dataframe thead th {\n",
       "        text-align: right;\n",
       "    }\n",
       "</style>\n",
       "<table border=\"1\" class=\"dataframe\">\n",
       "  <thead>\n",
       "    <tr style=\"text-align: right;\">\n",
       "      <th></th>\n",
       "      <th>borough</th>\n",
       "      <th>pickups</th>\n",
       "    </tr>\n",
       "  </thead>\n",
       "  <tbody>\n",
       "    <tr>\n",
       "      <th>3</th>\n",
       "      <td>Manhattan</td>\n",
       "      <td>10367841</td>\n",
       "    </tr>\n",
       "    <tr>\n",
       "      <th>1</th>\n",
       "      <td>Brooklyn</td>\n",
       "      <td>2321035</td>\n",
       "    </tr>\n",
       "    <tr>\n",
       "      <th>4</th>\n",
       "      <td>Queens</td>\n",
       "      <td>1343528</td>\n",
       "    </tr>\n",
       "    <tr>\n",
       "      <th>0</th>\n",
       "      <td>Bronx</td>\n",
       "      <td>220047</td>\n",
       "    </tr>\n",
       "    <tr>\n",
       "      <th>5</th>\n",
       "      <td>Staten Island</td>\n",
       "      <td>6957</td>\n",
       "    </tr>\n",
       "    <tr>\n",
       "      <th>2</th>\n",
       "      <td>EWR</td>\n",
       "      <td>105</td>\n",
       "    </tr>\n",
       "  </tbody>\n",
       "</table>\n",
       "</div>"
      ],
      "text/plain": [
       "         borough   pickups\n",
       "3      Manhattan  10367841\n",
       "1       Brooklyn   2321035\n",
       "4         Queens   1343528\n",
       "0          Bronx    220047\n",
       "5  Staten Island      6957\n",
       "2            EWR       105"
      ]
     },
     "execution_count": 25,
     "metadata": {},
     "output_type": "execute_result"
    }
   ],
   "source": [
    "taxi.groupby('borough', as_index=False).agg({'pickups':'sum'}).sort_values(by=['pickups'], ascending=False)"
   ]
  },
  {
   "cell_type": "markdown",
   "metadata": {},
   "source": [
    "### Задание 7\n",
    "\n",
    "Еще несколько полезных методов в ```pandas```! Возможно, в предыдущем степе вы просто посмотрели на данные или отсортировали значения. Ускорить данный процесс в дальнейшем помогут методы ```idxmin()``` и ```idxmax()```, которые возвращают индекс минимального или максимального значения.\n",
    "\n",
    "```idxmin``` – индекс минимального значения  \n",
    "```idxmax``` – индекс максимального значения  \n",
    "\n",
    "Сохраните название района с наименьшим числом поездок в переменную ```min_pickups```, применив подходящий метод."
   ]
  },
  {
   "cell_type": "code",
   "execution_count": 26,
   "metadata": {},
   "outputs": [],
   "source": [
    "min_pickups = taxi.groupby('borough').agg({'pickups' : 'sum'}).sort_values('pickups').idxmin()"
   ]
  },
  {
   "cell_type": "code",
   "execution_count": 27,
   "metadata": {},
   "outputs": [
    {
     "data": {
      "text/plain": [
       "pickups    EWR\n",
       "dtype: object"
      ]
     },
     "execution_count": 27,
     "metadata": {},
     "output_type": "execute_result"
    }
   ],
   "source": [
    "min_pickups"
   ]
  },
  {
   "cell_type": "markdown",
   "metadata": {},
   "source": [
    "### Задание 8\n",
    "\n",
    "Продолжим изучение данных и посмотрим на число поездок в выходные дни. Сгруппируйте данные по двум признакам: району города и является ли день выходным (колонки ```borough``` и ```hday```). Сравните среднее число поездок, и выберите районы, из которых по праздникам в среднем поступает больше заказов, чем в обычные дни. "
   ]
  },
  {
   "cell_type": "code",
   "execution_count": 28,
   "metadata": {},
   "outputs": [
    {
     "data": {
      "text/html": [
       "<div>\n",
       "<style scoped>\n",
       "    .dataframe tbody tr th:only-of-type {\n",
       "        vertical-align: middle;\n",
       "    }\n",
       "\n",
       "    .dataframe tbody tr th {\n",
       "        vertical-align: top;\n",
       "    }\n",
       "\n",
       "    .dataframe thead th {\n",
       "        text-align: right;\n",
       "    }\n",
       "</style>\n",
       "<table border=\"1\" class=\"dataframe\">\n",
       "  <thead>\n",
       "    <tr style=\"text-align: right;\">\n",
       "      <th></th>\n",
       "      <th>pickup_dt</th>\n",
       "      <th>pickup_month</th>\n",
       "      <th>borough</th>\n",
       "      <th>pickups</th>\n",
       "      <th>hday</th>\n",
       "      <th>spd</th>\n",
       "      <th>vsb</th>\n",
       "      <th>temp</th>\n",
       "      <th>dewp</th>\n",
       "      <th>slp</th>\n",
       "      <th>pcp_01</th>\n",
       "      <th>pcp_06</th>\n",
       "      <th>pcp_24</th>\n",
       "      <th>sd</th>\n",
       "    </tr>\n",
       "  </thead>\n",
       "  <tbody>\n",
       "    <tr>\n",
       "      <th>0</th>\n",
       "      <td>2015-01-01 01:00:00</td>\n",
       "      <td>Jan</td>\n",
       "      <td>Bronx</td>\n",
       "      <td>152</td>\n",
       "      <td>Y</td>\n",
       "      <td>5.0</td>\n",
       "      <td>10.0</td>\n",
       "      <td>30.0</td>\n",
       "      <td>7.0</td>\n",
       "      <td>1023.5</td>\n",
       "      <td>0.0</td>\n",
       "      <td>0.0</td>\n",
       "      <td>0.0</td>\n",
       "      <td>0.0</td>\n",
       "    </tr>\n",
       "    <tr>\n",
       "      <th>1</th>\n",
       "      <td>2015-01-01 01:00:00</td>\n",
       "      <td>Jan</td>\n",
       "      <td>Brooklyn</td>\n",
       "      <td>1519</td>\n",
       "      <td>Y</td>\n",
       "      <td>5.0</td>\n",
       "      <td>10.0</td>\n",
       "      <td>30.0</td>\n",
       "      <td>7.0</td>\n",
       "      <td>1023.5</td>\n",
       "      <td>0.0</td>\n",
       "      <td>0.0</td>\n",
       "      <td>0.0</td>\n",
       "      <td>0.0</td>\n",
       "    </tr>\n",
       "    <tr>\n",
       "      <th>2</th>\n",
       "      <td>2015-01-01 01:00:00</td>\n",
       "      <td>Jan</td>\n",
       "      <td>EWR</td>\n",
       "      <td>0</td>\n",
       "      <td>Y</td>\n",
       "      <td>5.0</td>\n",
       "      <td>10.0</td>\n",
       "      <td>30.0</td>\n",
       "      <td>7.0</td>\n",
       "      <td>1023.5</td>\n",
       "      <td>0.0</td>\n",
       "      <td>0.0</td>\n",
       "      <td>0.0</td>\n",
       "      <td>0.0</td>\n",
       "    </tr>\n",
       "    <tr>\n",
       "      <th>3</th>\n",
       "      <td>2015-01-01 01:00:00</td>\n",
       "      <td>Jan</td>\n",
       "      <td>Manhattan</td>\n",
       "      <td>5258</td>\n",
       "      <td>Y</td>\n",
       "      <td>5.0</td>\n",
       "      <td>10.0</td>\n",
       "      <td>30.0</td>\n",
       "      <td>7.0</td>\n",
       "      <td>1023.5</td>\n",
       "      <td>0.0</td>\n",
       "      <td>0.0</td>\n",
       "      <td>0.0</td>\n",
       "      <td>0.0</td>\n",
       "    </tr>\n",
       "    <tr>\n",
       "      <th>4</th>\n",
       "      <td>2015-01-01 01:00:00</td>\n",
       "      <td>Jan</td>\n",
       "      <td>Queens</td>\n",
       "      <td>405</td>\n",
       "      <td>Y</td>\n",
       "      <td>5.0</td>\n",
       "      <td>10.0</td>\n",
       "      <td>30.0</td>\n",
       "      <td>7.0</td>\n",
       "      <td>1023.5</td>\n",
       "      <td>0.0</td>\n",
       "      <td>0.0</td>\n",
       "      <td>0.0</td>\n",
       "      <td>0.0</td>\n",
       "    </tr>\n",
       "  </tbody>\n",
       "</table>\n",
       "</div>"
      ],
      "text/plain": [
       "             pickup_dt pickup_month    borough  pickups hday  spd   vsb  temp  \\\n",
       "0  2015-01-01 01:00:00          Jan      Bronx      152    Y  5.0  10.0  30.0   \n",
       "1  2015-01-01 01:00:00          Jan   Brooklyn     1519    Y  5.0  10.0  30.0   \n",
       "2  2015-01-01 01:00:00          Jan        EWR        0    Y  5.0  10.0  30.0   \n",
       "3  2015-01-01 01:00:00          Jan  Manhattan     5258    Y  5.0  10.0  30.0   \n",
       "4  2015-01-01 01:00:00          Jan     Queens      405    Y  5.0  10.0  30.0   \n",
       "\n",
       "   dewp     slp  pcp_01  pcp_06  pcp_24   sd  \n",
       "0   7.0  1023.5     0.0     0.0     0.0  0.0  \n",
       "1   7.0  1023.5     0.0     0.0     0.0  0.0  \n",
       "2   7.0  1023.5     0.0     0.0     0.0  0.0  \n",
       "3   7.0  1023.5     0.0     0.0     0.0  0.0  \n",
       "4   7.0  1023.5     0.0     0.0     0.0  0.0  "
      ]
     },
     "execution_count": 28,
     "metadata": {},
     "output_type": "execute_result"
    }
   ],
   "source": [
    "taxi.head()"
   ]
  },
  {
   "cell_type": "code",
   "execution_count": 33,
   "metadata": {},
   "outputs": [
    {
     "data": {
      "text/html": [
       "<div>\n",
       "<style scoped>\n",
       "    .dataframe tbody tr th:only-of-type {\n",
       "        vertical-align: middle;\n",
       "    }\n",
       "\n",
       "    .dataframe tbody tr th {\n",
       "        vertical-align: top;\n",
       "    }\n",
       "\n",
       "    .dataframe thead th {\n",
       "        text-align: right;\n",
       "    }\n",
       "</style>\n",
       "<table border=\"1\" class=\"dataframe\">\n",
       "  <thead>\n",
       "    <tr style=\"text-align: right;\">\n",
       "      <th></th>\n",
       "      <th>borough</th>\n",
       "      <th>hday</th>\n",
       "      <th>pickups</th>\n",
       "    </tr>\n",
       "  </thead>\n",
       "  <tbody>\n",
       "    <tr>\n",
       "      <th>6</th>\n",
       "      <td>Manhattan</td>\n",
       "      <td>N</td>\n",
       "      <td>2401.302921</td>\n",
       "    </tr>\n",
       "    <tr>\n",
       "      <th>7</th>\n",
       "      <td>Manhattan</td>\n",
       "      <td>Y</td>\n",
       "      <td>2035.928144</td>\n",
       "    </tr>\n",
       "    <tr>\n",
       "      <th>2</th>\n",
       "      <td>Brooklyn</td>\n",
       "      <td>N</td>\n",
       "      <td>534.727969</td>\n",
       "    </tr>\n",
       "    <tr>\n",
       "      <th>3</th>\n",
       "      <td>Brooklyn</td>\n",
       "      <td>Y</td>\n",
       "      <td>527.011976</td>\n",
       "    </tr>\n",
       "    <tr>\n",
       "      <th>9</th>\n",
       "      <td>Queens</td>\n",
       "      <td>Y</td>\n",
       "      <td>320.730539</td>\n",
       "    </tr>\n",
       "    <tr>\n",
       "      <th>8</th>\n",
       "      <td>Queens</td>\n",
       "      <td>N</td>\n",
       "      <td>308.899904</td>\n",
       "    </tr>\n",
       "    <tr>\n",
       "      <th>0</th>\n",
       "      <td>Bronx</td>\n",
       "      <td>N</td>\n",
       "      <td>50.771073</td>\n",
       "    </tr>\n",
       "    <tr>\n",
       "      <th>1</th>\n",
       "      <td>Bronx</td>\n",
       "      <td>Y</td>\n",
       "      <td>48.065868</td>\n",
       "    </tr>\n",
       "    <tr>\n",
       "      <th>10</th>\n",
       "      <td>Staten Island</td>\n",
       "      <td>N</td>\n",
       "      <td>1.606082</td>\n",
       "    </tr>\n",
       "    <tr>\n",
       "      <th>11</th>\n",
       "      <td>Staten Island</td>\n",
       "      <td>Y</td>\n",
       "      <td>1.497006</td>\n",
       "    </tr>\n",
       "    <tr>\n",
       "      <th>5</th>\n",
       "      <td>EWR</td>\n",
       "      <td>Y</td>\n",
       "      <td>0.041916</td>\n",
       "    </tr>\n",
       "    <tr>\n",
       "      <th>4</th>\n",
       "      <td>EWR</td>\n",
       "      <td>N</td>\n",
       "      <td>0.023467</td>\n",
       "    </tr>\n",
       "  </tbody>\n",
       "</table>\n",
       "</div>"
      ],
      "text/plain": [
       "          borough hday      pickups\n",
       "6       Manhattan    N  2401.302921\n",
       "7       Manhattan    Y  2035.928144\n",
       "2        Brooklyn    N   534.727969\n",
       "3        Brooklyn    Y   527.011976\n",
       "9          Queens    Y   320.730539\n",
       "8          Queens    N   308.899904\n",
       "0           Bronx    N    50.771073\n",
       "1           Bronx    Y    48.065868\n",
       "10  Staten Island    N     1.606082\n",
       "11  Staten Island    Y     1.497006\n",
       "5             EWR    Y     0.041916\n",
       "4             EWR    N     0.023467"
      ]
     },
     "execution_count": 33,
     "metadata": {},
     "output_type": "execute_result"
    }
   ],
   "source": [
    "taxi.groupby(['borough', 'hday'], as_index=False) \\\n",
    "    .agg({'pickups':'mean'}) \\\n",
    "    .sort_values(by=['pickups'], ascending=False)"
   ]
  },
  {
   "cell_type": "markdown",
   "metadata": {},
   "source": [
    "### Задание 9\n",
    "\n",
    "Для каждого района посчитайте число поездок по месяцам. Отсортируйте полученные значения по убыванию и сохраните результирующий датафрейм в ```pickups_by_mon_bor```.\n",
    "\n",
    "Обратите внимание, что итоговый датасет должен состоять из 3-х колонок - ```pickup_month```, ```borough```, ```pickups```."
   ]
  },
  {
   "cell_type": "code",
   "execution_count": 34,
   "metadata": {},
   "outputs": [],
   "source": [
    "pickups_by_mon_bor = taxi.groupby(['borough', 'pickup_month'], as_index=False)\\\n",
    "    .agg({'pickups' : 'sum'})\\\n",
    "    .sort_values('pickups', ascending=False)"
   ]
  },
  {
   "cell_type": "code",
   "execution_count": 36,
   "metadata": {},
   "outputs": [
    {
     "data": {
      "text/html": [
       "<div>\n",
       "<style scoped>\n",
       "    .dataframe tbody tr th:only-of-type {\n",
       "        vertical-align: middle;\n",
       "    }\n",
       "\n",
       "    .dataframe tbody tr th {\n",
       "        vertical-align: top;\n",
       "    }\n",
       "\n",
       "    .dataframe thead th {\n",
       "        text-align: right;\n",
       "    }\n",
       "</style>\n",
       "<table border=\"1\" class=\"dataframe\">\n",
       "  <thead>\n",
       "    <tr style=\"text-align: right;\">\n",
       "      <th></th>\n",
       "      <th>borough</th>\n",
       "      <th>pickup_month</th>\n",
       "      <th>pickups</th>\n",
       "    </tr>\n",
       "  </thead>\n",
       "  <tbody>\n",
       "    <tr>\n",
       "      <th>21</th>\n",
       "      <td>Manhattan</td>\n",
       "      <td>Jun</td>\n",
       "      <td>1995388</td>\n",
       "    </tr>\n",
       "    <tr>\n",
       "      <th>23</th>\n",
       "      <td>Manhattan</td>\n",
       "      <td>May</td>\n",
       "      <td>1888800</td>\n",
       "    </tr>\n",
       "    <tr>\n",
       "      <th>19</th>\n",
       "      <td>Manhattan</td>\n",
       "      <td>Feb</td>\n",
       "      <td>1718571</td>\n",
       "    </tr>\n",
       "    <tr>\n",
       "      <th>22</th>\n",
       "      <td>Manhattan</td>\n",
       "      <td>Mar</td>\n",
       "      <td>1661261</td>\n",
       "    </tr>\n",
       "    <tr>\n",
       "      <th>18</th>\n",
       "      <td>Manhattan</td>\n",
       "      <td>Apr</td>\n",
       "      <td>1648278</td>\n",
       "    </tr>\n",
       "  </tbody>\n",
       "</table>\n",
       "</div>"
      ],
      "text/plain": [
       "      borough pickup_month  pickups\n",
       "21  Manhattan          Jun  1995388\n",
       "23  Manhattan          May  1888800\n",
       "19  Manhattan          Feb  1718571\n",
       "22  Manhattan          Mar  1661261\n",
       "18  Manhattan          Apr  1648278"
      ]
     },
     "execution_count": 36,
     "metadata": {},
     "output_type": "execute_result"
    }
   ],
   "source": [
    "pickups_by_mon_bor.head()"
   ]
  },
  {
   "cell_type": "markdown",
   "metadata": {},
   "source": [
    "### Задание 10\n",
    "\n",
    "Теперь задача посложнее! Попрактикуемся в написании собственных функций и их применении к датафрейму. Поскольку данные о поездках в Нью-Йорке, температура представлена в градусах Фаренгейта. \n",
    "\n",
    "Напишите функцию ```temp_to_celcius```, которая получает на вход колонку с температурой в °F, и возвращает значения, переведенные в градусы Цельсия."
   ]
  },
  {
   "cell_type": "code",
   "execution_count": 37,
   "metadata": {},
   "outputs": [],
   "source": [
    "def temp_to_celcius(temp):\n",
    "    return ((temp - 32) * 5) / 9"
   ]
  }
 ],
 "metadata": {
  "kernelspec": {
   "display_name": "Python 3",
   "language": "python",
   "name": "python3"
  },
  "language_info": {
   "codemirror_mode": {
    "name": "ipython",
    "version": 3
   },
   "file_extension": ".py",
   "mimetype": "text/x-python",
   "name": "python",
   "nbconvert_exporter": "python",
   "pygments_lexer": "ipython3",
   "version": "3.7.3"
  }
 },
 "nbformat": 4,
 "nbformat_minor": 4
}
